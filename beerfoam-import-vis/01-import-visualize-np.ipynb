{
 "cells": [
  {
   "cell_type": "markdown",
   "metadata": {
    "collapsed": false
   },
   "source": [
    "## Can we use kinetics to model beer foam?\n",
    "\n"
   ]
  },
  {
   "cell_type": "markdown",
   "metadata": {
    "collapsed": false
   },
   "source": [
    "### Part 1: Importing and plotting data\n",
    "\n"
   ]
  },
  {
   "cell_type": "markdown",
   "metadata": {
    "collapsed": false
   },
   "source": [
    "Surely an important application of kinetic models is to understand the fate of the [beer head](https://en.wikipedia.org/wiki/Beer_head) on a pint.  An effective model can be developed for a fermentation process (a [zymurgist&rsquo;s](https://en.wikipedia.org/wiki/Zymology) concern) but foam dynamics are important to water treatment plants, chemical production facilities, and agriculture.  Indeed, the production and use of  [surfactants](https://en.wikipedia.org/wiki/Surfactant#Current_market_and_forecast) to control foam dynamics is a multi-billion dollar industry!\n",
    "\n",
    "<center>\n",
    "<img src=\"beer-1669295_1280.png\" width=\"80%\">\n",
    "</center>\n",
    "\n",
    "<center>Figure 1: Beers with head foam</center>\n",
    "\n",
    "In this activity, you will identify the kinetic order of the beer foam decay process.\n",
    "\n"
   ]
  },
  {
   "cell_type": "markdown",
   "metadata": {
    "collapsed": false
   },
   "source": [
    "### Learning Outcomes\n",
    "\n"
   ]
  },
  {
   "cell_type": "markdown",
   "metadata": {
    "collapsed": false
   },
   "source": [
    "After completing this activity you should be able to\n",
    "\n",
    "-   use numpy to import data from a file\n",
    "-   identify the order of a reaction using graphical analysis\n",
    "\n",
    "Make an honest effort to predict the outcome of code cells before executing them, and assess your predictions after executing them. The prediction-observation-reflection cycle&#x2014;especially when unexpected outcomes arise&#x2014;takes time and mental energy but yields better learning. Play lots of &ldquo;what-if&rdquo; games with code cells and capture ideas, surprises, and reasoning in markdown cells.\n",
    "\n",
    "Use markdown headings to identify key ideas, areas for further work, or questions (i.e., I have lots of #TODO, #REFACTOR, and #WHY? markdown cell headings).\n",
    "\n"
   ]
  },
  {
   "cell_type": "markdown",
   "metadata": {
    "collapsed": false
   },
   "source": [
    "## Python environment\n",
    "\n"
   ]
  },
  {
   "cell_type": "code",
   "execution_count": 0,
   "metadata": {
    "collapsed": false
   },
   "outputs": [
   ],
   "source": [
    "import numpy as np\n",
    "import matplotlib.pyplot as plt\n",
    "%matplotlib inline\n",
    "# plt.style.use('seaborn-talk')  # larger plots"
   ]
  },
  {
   "cell_type": "markdown",
   "metadata": {
    "collapsed": false
   },
   "source": [
    "## The Data\n",
    "\n"
   ]
  },
  {
   "cell_type": "markdown",
   "metadata": {
    "collapsed": false
   },
   "source": [
    "Description from the stats department at ufl.edu (secondary source of this data set):\n",
    "\n",
    "    Dataset: beer_foam.dat\n",
    "    \n",
    "    Source: J.J. Hackbarth (2006). \"Multivariate Analyses of Beer Foam Stand,\"\n",
    "    Journal of the Institute of Brewing, Vol. 112, #1, pp. 17-24\n",
    "    \n",
    "    Description: Measurements of wet foam height and beer height at various\n",
    "    time points for Shiner Bock at 20C.\n",
    "    \n",
    "    Variables/Columns\n",
    "    Time from pour (seconds)  4-8\n",
    "    Wet foam height (cm)  10-16\n",
    "    Beer height (cm)    18-24\n",
    "\n",
    "The data is in the file `beer_foam.dat`. The command `!head -n` shows the first n lines of the data file:\n",
    "\n"
   ]
  },
  {
   "cell_type": "code",
   "execution_count": 0,
   "metadata": {
    "collapsed": false
   },
   "outputs": [
   ],
   "source": [
    "!head -5 beer_foam.dat"
   ]
  },
  {
   "cell_type": "markdown",
   "metadata": {
    "collapsed": false
   },
   "source": [
    "### Critical Thinking Questions\n",
    "\n"
   ]
  },
  {
   "cell_type": "markdown",
   "metadata": {
    "collapsed": false
   },
   "source": [
    "**CTQ 1**\n",
    "Briefly explain how the variables in the data set are related to Figure 1 above.  Identify the dependent and independent variables.\n",
    "\n"
   ]
  },
  {
   "cell_type": "code",
   "execution_count": 0,
   "metadata": {
    "collapsed": false
   },
   "outputs": [
   ],
   "source": [
   ]
  },
  {
   "cell_type": "markdown",
   "metadata": {
    "collapsed": false
   },
   "source": [
    "**CTQ 2**\n",
    " Write a plausible experimental method for obtaining the data. Be specific about the equipment you would use, and based on using this equipment, estimate the uncertainty in each measurement.\n",
    "\n"
   ]
  },
  {
   "cell_type": "code",
   "execution_count": 0,
   "metadata": {
    "collapsed": false
   },
   "outputs": [
   ],
   "source": [
   ]
  },
  {
   "cell_type": "markdown",
   "metadata": {
    "collapsed": false
   },
   "source": [
    "**CTQ 3**\n",
    " The last stanza in the data set description has numbers after the variables&rsquo; units; what to these numbers mean?\n",
    "\n"
   ]
  },
  {
   "cell_type": "code",
   "execution_count": 0,
   "metadata": {
    "collapsed": false
   },
   "outputs": [
   ],
   "source": [
   ]
  },
  {
   "cell_type": "markdown",
   "metadata": {
    "collapsed": false
   },
   "source": [
    "**CTQ 4**\n",
    " What [delimiter](https://en.wikipedia.org/wiki/Delimiter) is used in the data set?\n",
    "\n"
   ]
  },
  {
   "cell_type": "code",
   "execution_count": 0,
   "metadata": {
    "collapsed": false
   },
   "outputs": [
   ],
   "source": [
   ]
  },
  {
   "cell_type": "markdown",
   "metadata": {
    "collapsed": false
   },
   "source": [
    "## Importing CSV data with `numpy`\n",
    "\n"
   ]
  },
  {
   "cell_type": "markdown",
   "metadata": {
    "collapsed": false
   },
   "source": [
    "`numpy.genfromtext()` is a powerful function for reading text-based data files in a variety of formats (CSV, TSV, fixed-width, etc.).\n",
    "\n"
   ]
  },
  {
   "cell_type": "code",
   "execution_count": 0,
   "metadata": {
    "collapsed": false
   },
   "outputs": [
   ],
   "source": [
    "time, foam, beer = np.genfromtxt(\"beer_foam.dat\", delimiter=\"\", skip_header=0, unpack=True)\n",
    "print(\"time =\", time)\n",
    "print(\"foam =\", foam)\n",
    "print(\"beer =\", beer)"
   ]
  },
  {
   "cell_type": "markdown",
   "metadata": {
    "collapsed": false
   },
   "source": [
    "**CTQ 5**\n",
    "Explain the purpose of each argument in the `np.genfromtxt()` function call above. Refer to the numpy documentation or any other source, but cite sources using markdown links for reproducibility and attribution.\n",
    "\n"
   ]
  },
  {
   "cell_type": "code",
   "execution_count": 0,
   "metadata": {
    "collapsed": false
   },
   "outputs": [
   ],
   "source": [
   ]
  },
  {
   "cell_type": "markdown",
   "metadata": {
    "collapsed": false
   },
   "source": [
    "## Exploratory visualization of data set\n",
    "\n"
   ]
  },
  {
   "cell_type": "markdown",
   "metadata": {
    "collapsed": false
   },
   "source": [
    "It is helpful to quickly manipulate and plot a data set when seeking the story behind the data. Some call this &ldquo;exploratory visualization&rdquo;.\n",
    "\n",
    "What do the data look like?\n",
    "\n"
   ]
  },
  {
   "cell_type": "code",
   "execution_count": 0,
   "metadata": {
    "collapsed": false
   },
   "outputs": [
   ],
   "source": [
    "plt.plot(time, beer, 'o', label='foam height')\n",
    "plt.plot(time, foam, 'o', label='beer height')\n",
    "plt.legend()"
   ]
  },
  {
   "cell_type": "markdown",
   "metadata": {
    "collapsed": false
   },
   "source": [
    "**Exercise 1**\n",
    "Create a more professional looking plot of heights vs. time using different marker shapes, a title, and axis labels (don&rsquo;t forget units). Also, set the y-axis limit to &ldquo;round numbers&rdquo;.\n",
    "\n"
   ]
  },
  {
   "cell_type": "code",
   "execution_count": 0,
   "metadata": {
    "collapsed": false
   },
   "outputs": [
   ],
   "source": [
   ]
  },
  {
   "cell_type": "markdown",
   "metadata": {
    "collapsed": false
   },
   "source": [
    "**CTQ 6**\n",
    "A rate is a relationship between a change in some property and time. Using markdown and latex, write expressions for the two rates that are being studied.\n",
    "\n"
   ]
  },
  {
   "cell_type": "code",
   "execution_count": 0,
   "metadata": {
    "collapsed": false
   },
   "outputs": [
   ],
   "source": [
   ]
  },
  {
   "cell_type": "markdown",
   "metadata": {
    "collapsed": false
   },
   "source": [
    "**CTQ 7**\n",
    "In kinetics, what is the difference between *instantaneous rate* and *average rate*?\n",
    "\n"
   ]
  },
  {
   "cell_type": "code",
   "execution_count": 0,
   "metadata": {
    "collapsed": false
   },
   "outputs": [
   ],
   "source": [
   ]
  },
  {
   "cell_type": "markdown",
   "metadata": {
    "collapsed": false
   },
   "source": [
    "### Worked example: What are the instantaneous rates at the beginning and end of the experiment?\n",
    "\n"
   ]
  },
  {
   "cell_type": "markdown",
   "metadata": {
    "collapsed": false
   },
   "source": [
    "To obtain the average rate for the reaction\n",
    "\n",
    "$${\\rm foam} \\stackrel{k}{\\rightarrow} {\\rm beer}$$\n",
    "\n",
    "compute the rates at the beginning and end of the experiment.\n",
    "\n",
    "$$ {\\rm Rate} = \\frac{ \\Delta {\\rm beer\\ height}} { \\Delta t} $$\n",
    "\n",
    "List-like objects (lists, arrays, series) values are accessed using the object&rsquo;s index. Elements at end of the list-like object can be accessed using negative index values.\n",
    "\n"
   ]
  },
  {
   "cell_type": "code",
   "execution_count": 0,
   "metadata": {
    "collapsed": false
   },
   "outputs": [
   ],
   "source": [
    "rate_beg = (beer[0] - beer[1]) / (time[0] - time[1])\n",
    "print(\"beer height rate at beginning of experiment = %.3f cm/s\" % rate_beg)\n",
    "\n",
    "rate_end = (beer[-2] - beer[-1]) / (time[-2] - time[-1])\n",
    "print(\"rate at end of experiment = %.3f cm/s\" % rate_end)"
   ]
  },
  {
   "cell_type": "markdown",
   "metadata": {
    "collapsed": false
   },
   "source": [
    "**CTQ 8**\n",
    "By what factor does the beer height rate change over the lifetime of the experiment?\n",
    "\n"
   ]
  },
  {
   "cell_type": "code",
   "execution_count": 0,
   "metadata": {
    "collapsed": false
   },
   "outputs": [
   ],
   "source": [
   ]
  },
  {
   "cell_type": "markdown",
   "metadata": {
    "collapsed": false
   },
   "source": [
    "**Exercise 2**\n",
    "Compute the wet foam initial and final rates and compare them to the beer height rates.  Relate the numeric results to the visualization.\n",
    "\n"
   ]
  },
  {
   "cell_type": "code",
   "execution_count": 0,
   "metadata": {
    "collapsed": false
   },
   "outputs": [
   ],
   "source": [
   ]
  },
  {
   "cell_type": "markdown",
   "metadata": {
    "collapsed": false
   },
   "source": [
    "**Exercise 3**\n",
    "Is the total height in glass conserved? That is, is the sum of foam height and beer height constant? Use a plot to support your answer.\n",
    "\n"
   ]
  },
  {
   "cell_type": "code",
   "execution_count": 0,
   "metadata": {
    "collapsed": false
   },
   "outputs": [
   ],
   "source": [
   ]
  },
  {
   "cell_type": "markdown",
   "metadata": {
    "collapsed": false
   },
   "source": [
    "**CTQ 9**\n",
    "Are the combined heights conserved?  Why is this the case?\n",
    "\n"
   ]
  },
  {
   "cell_type": "code",
   "execution_count": 0,
   "metadata": {
    "collapsed": false
   },
   "outputs": [
   ],
   "source": [
   ]
  },
  {
   "cell_type": "markdown",
   "metadata": {
    "collapsed": false
   },
   "source": [
    "**Problem 1**\n",
    "<br/>\n",
    "Using graphical analysis, determine the reaction orders for the wet foam height and the beer height.\n",
    "\n"
   ]
  },
  {
   "cell_type": "code",
   "execution_count": 0,
   "metadata": {
    "collapsed": false
   },
   "outputs": [
   ],
   "source": [
   ]
  },
  {
   "cell_type": "markdown",
   "metadata": {
    "collapsed": false
   },
   "source": [
    "## Reflection\n",
    "\n"
   ]
  },
  {
   "cell_type": "markdown",
   "metadata": {
    "collapsed": false
   },
   "source": [
    "Your responses here can help improve the activity! Please read both carefully so you&rsquo;re responding to either python or chemistry concepts. Thanks.\n",
    "\n",
    "In a markdown cell, please answer these prompts as they relate to learning *python*.\n",
    "\n",
    "-   What is a useful thing you accomplished or learned?\n",
    "-   What did you find interesting or surprising?\n",
    "-   What did you find confusing?\n",
    "\n"
   ]
  },
  {
   "cell_type": "code",
   "execution_count": 0,
   "metadata": {
    "collapsed": false
   },
   "outputs": [
   ],
   "source": [
   ]
  },
  {
   "cell_type": "markdown",
   "metadata": {
    "collapsed": false
   },
   "source": [
    "In a markdown cell, please answer these prompts  as they relate to learning *chemistry*.\n",
    "\n",
    "-   What is a useful thing you accomplished or learned?\n",
    "-   What did you find interesting or surprising?\n",
    "-   What did you find confusing?\n",
    "\n"
   ]
  },
  {
   "cell_type": "code",
   "execution_count": 0,
   "metadata": {
    "collapsed": false
   },
   "outputs": [
   ],
   "source": [
   ]
  }
 ],
 "metadata": {
  "kernelspec": {
   "display_name": "Python 3 (system-wide)",
   "language": "python",
   "metadata": {
    "cocalc": {
     "description": "Python 3 programming language",
     "priority": 100,
     "url": "https://www.python.org/"
    }
   },
   "name": "python3"
  },
  "language_info": {
   "codemirror_mode": {
    "name": "ipython",
    "version": 3
   },
   "file_extension": ".py",
   "mimetype": "text/x-python",
   "name": "python",
   "nbconvert_exporter": "python",
   "pygments_lexer": "ipython3",
   "version": "3.6.8"
  },
  "org": null
 },
 "nbformat": 4,
 "nbformat_minor": 0
}