{
 "cells": [
  {
   "cell_type": "markdown",
   "id": "38da007d-acdb-44e5-a343-2a99406442e7",
   "metadata": {},
   "source": [
    "## What are the Hydrogen Radial Wavefunctions?\n",
    "\n"
   ]
  },
  {
   "cell_type": "markdown",
   "id": "07a24c45-12c2-4aea-9e8b-50e120949679",
   "metadata": {},
   "source": [
    "S Singleton\n",
    "\n",
    "Background information:\n",
    "\n",
    "-   Engle & Reid, *Physical Chemistry*, 3rd ed., Ch 20\n",
    "-   Shepherd & Grushow, *Quantum Chemistry and Spectroscopy*\n",
    "\n",
    "Python environment used in this notebook:\n",
    "\n"
   ]
  },
  {
   "cell_type": "code",
   "execution_count": null,
   "id": "55f918d4-04f9-444a-98e9-cf78fc530bec",
   "metadata": {},
   "outputs": [],
   "source": [
    "import matplotlib.pyplot as plt\n",
    "%matplotlib inline\n",
    "\n",
    "import numpy as np\n",
    "from sympy import *\n",
    "init_printing(pretty_print=True)"
   ]
  },
  {
   "cell_type": "markdown",
   "id": "9a4f703c-593c-442f-b216-9da3d87c98ae",
   "metadata": {},
   "source": [
    "### Content objectives\n",
    "\n"
   ]
  },
  {
   "cell_type": "markdown",
   "id": "85bbef4f-4d11-4838-83a4-7a63815a3cf0",
   "metadata": {},
   "source": [
    "-   identify characteristics of the hydrogenic radial wavefunctions including the number of nodes and location of extrema\n",
    "\n"
   ]
  },
  {
   "cell_type": "markdown",
   "id": "0d45831f-660f-451d-8a5f-6181757ec27c",
   "metadata": {},
   "source": [
    "### Process objectives\n",
    "\n"
   ]
  },
  {
   "cell_type": "markdown",
   "id": "82348458-5a8d-44b9-b17d-68e58530ead2",
   "metadata": {},
   "source": [
    "-   determine if radial wavefunctions are orthonormal\n",
    "-   plot $R(r)$ and the probability distribution\n",
    "-   compute $\\langle r \\rangle$ and $r_{\\text{mp}}$\n",
    "\n"
   ]
  },
  {
   "cell_type": "markdown",
   "id": "780d0d6d-4262-4501-a57c-bfab952dfa39",
   "metadata": {},
   "source": [
    "### Prequisites\n",
    "\n"
   ]
  },
  {
   "cell_type": "markdown",
   "id": "73897e5a-22f1-4efa-bbb8-6455f316b4c6",
   "metadata": {},
   "source": [
    "To complete this work you should be familiar with\n",
    "\n",
    "-   using python/sympy for calculus and algebra problems\n",
    "-   wavefunctions, probability distributions, and expectation values\n",
    "\n"
   ]
  },
  {
   "cell_type": "markdown",
   "id": "8cf84214-4430-476b-b221-8e84e1e1bbe4",
   "metadata": {},
   "source": [
    "## Model\n",
    "\n"
   ]
  },
  {
   "cell_type": "markdown",
   "id": "862973be-2a0f-4752-83eb-9c642c47f166",
   "metadata": {},
   "source": [
    "The wavefunctions for hydrogen are composed of two &ldquo;parts&rdquo;; a *radial* part and an *angular* part:\n",
    "\n",
    "$$\\Psi(r, \\theta, \\phi) = \\underbrace{ R(r)\n",
    "}_\\text{radial}\\;\\underbrace{\\Theta(\\theta)\\Phi(\\phi)}_\\text{angular}$$\n",
    "\n",
    "In this notebook, we will focus on the radial wavefunction, $R(r)$. The math is\n",
    "a bit simpler if atomic units are used, so distances will be measured using the\n",
    "[Bohr radius](https://en.wikipedia.org/wiki/Bohr_radius):\n",
    "\n",
    "$$ {\\rm 1\\ bohr} = a_0 = \\frac{4\\pi\\epsilon_0\\hbar^2}{m_e e^2}$$\n",
    "\n",
    "Evaluating $a_0$ shows a\n",
    "[bohr](http://physics.nist.gov/cgi-bin/cuu/Value?bohrrada0) is about 53 pm:\n",
    "\n"
   ]
  },
  {
   "cell_type": "code",
   "execution_count": null,
   "id": "6f32eafc-957b-4a33-9507-8a4c0c1ab3e6",
   "metadata": {},
   "outputs": [],
   "source": [
    "import scipy.constants as spc # import library containing common constants\n",
    "\n",
    "# calculate a_0 directly\n",
    "bohr = 4 * np.pi * spc.epsilon_0 * spc.hbar**2 / (spc.electron_mass *\n",
    "                                                  spc.elementary_charge**2)\n",
    "bohr"
   ]
  },
  {
   "cell_type": "markdown",
   "id": "757c1cd0-650a-46af-8d9e-37f10679c819",
   "metadata": {},
   "source": [
    "## How do functions $R_{n,l}(r)$ behave?\n",
    "\n"
   ]
  },
  {
   "cell_type": "markdown",
   "id": "19ec440f-edbe-43a6-875c-2aec73f2957b",
   "metadata": {},
   "source": [
    "To answer this question, we will take advantage of\n",
    "[sympy](http://www.sympy.org/en/index.html) which &rsquo;knows&rsquo; about the hydrogenic\n",
    "wave functions.  First, review how wavefunctions and quantum numbers are related.\n",
    "\n",
    "**CTQ 1**\n",
    "(**CTQs** are Critical Thinking Questions)\n",
    "\n",
    "Remember the rules for\n",
    "[H\n",
    "quantum numbers](http://chemwiki.ucdavis.edu/Physical_Chemistry/Quantum_Mechanics/10%3A_Multi-electron_Atoms/Quantum_Numbers)? What values can $n$, the **principle quantum** number have?\n",
    "\n"
   ]
  },
  {
   "cell_type": "code",
   "execution_count": null,
   "id": "13ef1aeb-62fa-4a32-ac8a-8e1ac2f78881",
   "metadata": {},
   "outputs": [],
   "source": []
  },
  {
   "cell_type": "markdown",
   "id": "7e36eca3-e997-41c0-a6a3-046091d98525",
   "metadata": {},
   "source": [
    "**CTQ 2**\n",
    "Given a value for $n$, what values can $l$, the **angular momentum** quantum\n",
    "number, have?\n",
    "\n"
   ]
  },
  {
   "cell_type": "code",
   "execution_count": null,
   "id": "fabd8149-5fa8-4e52-974f-80dbebdc93fb",
   "metadata": {},
   "outputs": [],
   "source": []
  },
  {
   "cell_type": "markdown",
   "id": "626b263d-5396-401e-acd4-d97dc7adffd8",
   "metadata": {},
   "source": [
    "**CTQ 3**\n",
    "Quantum numbers give insight into physical properties of a system. The quantum\n",
    "numbers $n$ and $l$ are related to what properties of an electron?\n",
    "\n"
   ]
  },
  {
   "cell_type": "code",
   "execution_count": null,
   "id": "24c98f10-dc65-44ad-816f-8423784f5ef6",
   "metadata": {},
   "outputs": [],
   "source": []
  },
  {
   "cell_type": "markdown",
   "id": "c8ceb422-bb53-4ebf-adb0-99b49f3b46c9",
   "metadata": {},
   "source": [
    "**CTQ 4**\n",
    "Give the $n$ and $l$ quantum numbers for an electron in a 1s orbital.\n",
    "\n"
   ]
  },
  {
   "cell_type": "code",
   "execution_count": null,
   "id": "6ceadc25-3efb-4d6a-8afc-6f33d6ebcb15",
   "metadata": {},
   "outputs": [],
   "source": []
  },
  {
   "cell_type": "markdown",
   "id": "6f02353d-9ac1-40d1-be1b-821547ce4861",
   "metadata": {},
   "source": [
    "## Using sympy to generate $R_{nl}$\n",
    "\n"
   ]
  },
  {
   "cell_type": "markdown",
   "id": "35b04701-58e1-4a42-b29c-38c9d9f02e30",
   "metadata": {},
   "source": [
    "The sympy function `R_nl()` will generate hydrogenic radial functions given\n",
    "acceptable values for $n$ and $l$. Unless a different nucleus is passed to the\n",
    "R<sub>nl</sub> function, $Z=1$ (hydrogen) is assumed.\n",
    "\n",
    "This example is for $R_{n=1, l=0}$, the radial function for an electron in a 1s\n",
    "orbital. Compare the result from python with that in your textbook or notes.\n",
    "\n"
   ]
  },
  {
   "cell_type": "code",
   "execution_count": null,
   "id": "cf0e423b-6ed6-4e36-8f5c-e7b93645cf6a",
   "metadata": {},
   "outputs": [],
   "source": [
    "from sympy.physics.hydrogen import R_nl\n",
    "\n",
    "# tell sympy about the variables\n",
    "n, l, r = symbols('n, l, r', real=True, postive=True)"
   ]
  },
  {
   "cell_type": "code",
   "execution_count": null,
   "id": "c46c121e-60c7-4ec0-8808-9169f1e35eb1",
   "metadata": {},
   "outputs": [],
   "source": [
    "# 1s function for hydrogen\n",
    "R_nl(1, 0, r)"
   ]
  },
  {
   "cell_type": "markdown",
   "id": "5e705d8e-0e06-450a-aa3c-ac5bdff3beda",
   "metadata": {},
   "source": [
    "**CTQ 5**\n",
    "Generate $R_{20}$. Does is differ from the &rsquo;book&rsquo; version? If so, are the versions reconcilable?\n",
    "\n"
   ]
  },
  {
   "cell_type": "code",
   "execution_count": null,
   "id": "b2b5cbd3-95fe-4ea8-bb20-0f7e890b46a1",
   "metadata": {},
   "outputs": [],
   "source": []
  },
  {
   "cell_type": "markdown",
   "id": "dddb69d7-d5c2-4c3b-9dd9-cf6b7be5de11",
   "metadata": {},
   "source": [
    "**CTQ 6**\n",
    "Discuss in your group: Which has a &rsquo;higher energy&rsquo;: an electron in a 2p orbital or an electron in a 3d orbital? Try to justify your answer using the radial functions generated above (speculate as to how the functions behave if unsure).\n",
    "\n"
   ]
  },
  {
   "cell_type": "code",
   "execution_count": null,
   "id": "4ee3440b-a056-49ed-8406-69e0bc54b978",
   "metadata": {},
   "outputs": [],
   "source": []
  },
  {
   "cell_type": "markdown",
   "id": "7b7ec754-35e2-46ff-a7c6-cfd032985ee6",
   "metadata": {},
   "source": [
    "**Exercise 1**\n",
    "Generate $R_{32}$ for Li<sup>2+</sup>. To which orbital does this radial function correspond?\n",
    "\n"
   ]
  },
  {
   "cell_type": "code",
   "execution_count": null,
   "id": "c82480db-95ab-4ffa-bda0-9e0dfd87de1a",
   "metadata": {},
   "outputs": [],
   "source": []
  },
  {
   "cell_type": "markdown",
   "id": "cf229c6c-5cdb-4174-b2f7-55c59977e56b",
   "metadata": {},
   "source": [
    "**Exercise 2**\n",
    "Use `R_nl()` to generate the radial wavefunctions for an electron in a 2p orbital and a 3d orbital (assume a hydrogen atom).\n",
    "\n"
   ]
  },
  {
   "cell_type": "code",
   "execution_count": null,
   "id": "ef44e35b-0cf9-438c-9391-1e5c920f00e1",
   "metadata": {},
   "outputs": [],
   "source": []
  },
  {
   "cell_type": "markdown",
   "id": "d42e2023-ecd0-4ab9-91a4-7dc1eba79c5e",
   "metadata": {},
   "source": [
    "bohrs or $10a_0$, roughly 520 pm.)\n",
    "\n"
   ]
  },
  {
   "cell_type": "code",
   "execution_count": null,
   "id": "6bbdce0c-a6b4-453d-a110-1ada4b343a11",
   "metadata": {},
   "outputs": [],
   "source": [
    "p1 = plot(R_nl(1,0,r), (r,0,20), xlabel=r'$r/a_0$', ylabel='R(r)',show=False)\n",
    "p2 = plot(R_nl(2,0,r), (r,0,20), line_color='r', show=False)\n",
    "p1[0].label = '1s'\n",
    "p2[0].label = '2s'\n",
    "p1.extend(p2)\n",
    "p1.legend = True\n",
    "p1.show();"
   ]
  },
  {
   "cell_type": "markdown",
   "id": "7c7bd5c2-f80e-4aad-919d-1662a022ab8f",
   "metadata": {},
   "source": [
    "**CTQ 10**\n",
    "Does the plot support your group&rsquo;s answer to the previous CTQ?\n",
    "\n"
   ]
  },
  {
   "cell_type": "markdown",
   "id": "759c06a7-609a-49a9-bb6e-a27b40cad6b2",
   "metadata": {},
   "source": [
    "## Are the radial functions normalized?\n",
    "\n"
   ]
  },
  {
   "cell_type": "markdown",
   "id": "a5b2da36-4ec3-46f2-b358-d6fb58e23bd8",
   "metadata": {},
   "source": [
    "As with other quantum wavefunctions, radial wavefunctions should be\n",
    "normalizable.\n",
    "\n",
    "$$ \\int \\phi^2\\, d\\tau = 1$$\n",
    "\n",
    "Is the sympy function for R<sub>1,0</sub> normalized? Recall that the differential\n",
    "element is $r\\, dr$.\n",
    "\n"
   ]
  },
  {
   "cell_type": "code",
   "execution_count": null,
   "id": "694c8299-ad27-489c-9c80-77ac24a027fe",
   "metadata": {},
   "outputs": [],
   "source": [
    "integrate(R_nl(1,0,r)**2 * r**2, (r, 0, oo))"
   ]
  },
  {
   "cell_type": "markdown",
   "id": "d08069f7-43c9-4cbb-bf8e-fdcacc37a356",
   "metadata": {},
   "source": [
    "**Exercise 4**\n",
    "Are the 2s and 2p orbitals normalized?\n",
    "\n"
   ]
  },
  {
   "cell_type": "markdown",
   "id": "d86bf7c6-0fc3-4554-a60d-dcbaf9ba5b72",
   "metadata": {},
   "source": [
    "## Visualizing radial probability distributions\n",
    "\n"
   ]
  },
  {
   "cell_type": "markdown",
   "id": "06ebaa54-f562-4ded-b984-6ddc0b6dda35",
   "metadata": {},
   "source": [
    "The probability of finding an electron between $r$ and $r + dr$ in a thin spherical shell centered at the nucleus is given by $P = r^2 R_{n,l}^2$. The function $P$ is the called the **radial distribution function** (RDF).\n",
    "\n"
   ]
  },
  {
   "cell_type": "markdown",
   "id": "c8606f0d-45e1-44f0-8fc4-085b7f6ca2dd",
   "metadata": {},
   "source": [
    "### Worked Example\n",
    "\n"
   ]
  },
  {
   "cell_type": "markdown",
   "id": "65c1ea3c-d7c1-49a3-96e6-e8676d40accb",
   "metadata": {},
   "source": [
    "Plot the 1s and 2s RDF functions.\n",
    "\n"
   ]
  },
  {
   "cell_type": "code",
   "execution_count": null,
   "id": "b532d043-9575-41ca-9731-19f517748bba",
   "metadata": {},
   "outputs": [],
   "source": [
    "r10 = R_nl(1,0,r)\n",
    "r20 = R_nl(2,0,r)"
   ]
  },
  {
   "cell_type": "code",
   "execution_count": null,
   "id": "0c2e7e46-0fe1-4fc5-b791-0d168017814a",
   "metadata": {},
   "outputs": [],
   "source": [
    "p1 = plot(r10**2*r**2, (r,0,20), show=False)\n",
    "p1.xlabel='$r/a_0$'\n",
    "p1.ylabel=r'${\\rm Prob}$'\n",
    "p1[0].label=r'$P_{R10}$'\n",
    "p1.legend=True\n",
    "\n",
    "p2 = plot(r20**2 * r**2, (r,0,20), line_color='r', show=False)\n",
    "p2[0].label=r'$P_{R20}$'\n",
    "p1.extend(p2)\n",
    "p1.show()"
   ]
  },
  {
   "cell_type": "markdown",
   "id": "870bc8df-67a4-49b7-ba88-2e625b0b8556",
   "metadata": {},
   "source": [
    "**Exercise 5**\n",
    "Plot the radial distribution function for 3s electrons. (If able, overlay with the 2s and 1s RDFs.)\n",
    "\n",
    "**Exercise 6**\n",
    "In your group, predict the number of nodes in the radial function of a 3d\n",
    "electron (justify the reasoning). \n",
    "\n",
    "Plot the radial distribution function for a 3d electron and compare to the\n",
    "prediction. Explain any discrepancies.\n",
    "\n"
   ]
  },
  {
   "cell_type": "code",
   "execution_count": null,
   "id": "aaa76c06-eb58-4712-a568-b9a9719b3936",
   "metadata": {},
   "outputs": [],
   "source": []
  },
  {
   "cell_type": "markdown",
   "id": "e7195767-4307-4970-9f92-bd49367f638a",
   "metadata": {},
   "source": [
    "**Exercise 7**\n",
    "What is the most probable distance from nucleus for an electron in $R_{10}$?\n",
    "(Answer: 1 bohr radius. Show this with python or paper.)\n",
    "\n"
   ]
  },
  {
   "cell_type": "code",
   "execution_count": null,
   "id": "87e3be80-8f18-4327-be2f-1007f9f69880",
   "metadata": {},
   "outputs": [],
   "source": []
  },
  {
   "cell_type": "markdown",
   "id": "f40b58bc-f5bb-4b70-a269-580b81b4742c",
   "metadata": {},
   "source": [
    "**Exercise 8**\n",
    "What is the average distance $\\langle r \\rangle$ for $R_{10}$?\n",
    "\n"
   ]
  },
  {
   "cell_type": "code",
   "execution_count": null,
   "id": "dda270a9-ff67-41ad-a269-2e3f04668423",
   "metadata": {},
   "outputs": [],
   "source": []
  },
  {
   "cell_type": "markdown",
   "id": "30b5ac30-6b88-4a66-b665-40f40ed90fda",
   "metadata": {},
   "source": [
    "**Problem 1**\n",
    "Write a function that returns the expectation value for $\\langle r \\rangle$ for\n",
    "any $R_{n,l}$. Use this function to calculate the average value of r for a\n",
    "hydrogenic system with an electron in the 10 lowest energy orbitals. Then\n",
    "consider:\n",
    "\n",
    "-   Describe a trend in $\\langle r \\rangle$ as the energy increases. Is the trend expected?\n",
    "-   Is the trend *monotonic*?\n",
    "\n"
   ]
  },
  {
   "cell_type": "code",
   "execution_count": null,
   "id": "dee5f302-bb33-439c-9094-82fe705c8273",
   "metadata": {},
   "outputs": [],
   "source": [
    "# Complete this function\n",
    "def ravg(n, l):\n",
    "    \"\"\"Computes the expectation value <r>, in bohrs, for R_nl(n, l).\"\"\"\n",
    "\n",
    "    return"
   ]
  }
 ],
 "metadata": {
  "kernelspec": {
   "display_name": "Python 3 (ipykernel)",
   "language": "python",
   "name": "python3"
  },
  "language_info": {
   "codemirror_mode": {
    "name": "ipython",
    "version": 3
   },
   "file_extension": ".py",
   "mimetype": "text/x-python",
   "name": "python",
   "nbconvert_exporter": "python",
   "pygments_lexer": "ipython3",
   "version": "3.12.11"
  },
  "org": null
 },
 "nbformat": 4,
 "nbformat_minor": 5
}
