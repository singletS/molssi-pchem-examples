{
 "cells": [
  {
   "cell_type": "markdown",
   "id": "a457f0b0-e274-48d6-bbdb-d17fcaf63d83",
   "metadata": {},
   "source": [
    "## How can we calculate the entropy of a solid?\n",
    "\n"
   ]
  },
  {
   "cell_type": "markdown",
   "id": "ddeae92b-0bbf-4921-b6b9-a1a6c1d421bd",
   "metadata": {},
   "source": [
    "A common task in thermodynamics is calculating the entropy of a substance. Because nobody has invented a device that can measure entropy experimentally, we resort to other measurable quantities (heat capacity and enthalpy) and mathematical relationships. Knowing entropy, it is possible to identify what processes will occur spontaneously and predict when they will reach equilibrium. In this activity, you will calculate the entropy of a substance in a single phase.\n",
    "\n"
   ]
  },
  {
   "cell_type": "markdown",
   "id": "f06199e6-fdfd-4301-8122-11144fc2a673",
   "metadata": {},
   "source": [
    "### Prerequisites\n",
    "\n"
   ]
  },
  {
   "cell_type": "markdown",
   "id": "1082a78f-718f-417c-8b36-1000d99c886b",
   "metadata": {},
   "source": [
    "This notebook assumes users are familiar with thermodynamics concepts including\n",
    "\n",
    "-   differential forms for the first and second laws of thermodynamics\n",
    "-   temperature dependence of heat capacity\n",
    "\n",
    "and python/Jupyter skills\n",
    "\n",
    "-   importing and parsing CSV files\n",
    "-   basic plotting with matplotlib\n",
    "-   creating and manipulating numpy arrays\n",
    "-   using Scipy numerical integration functions\n",
    "\n"
   ]
  },
  {
   "cell_type": "markdown",
   "id": "cb1d1db9-ef27-48f7-82ad-2ed4467e29cb",
   "metadata": {},
   "source": [
    "### Content Objectives\n",
    "\n"
   ]
  },
  {
   "cell_type": "markdown",
   "id": "ac1f879a-4466-42c3-a6eb-b2ce66848b0a",
   "metadata": {},
   "source": [
    "After completing this exercise you should be able to\n",
    "\n",
    "-   apply the first and second laws of thermodynamics for calculating the entropy of a substance in a single phase\n",
    "-   relate heat capacity to entropy mathematically\n",
    "-   predict the effect of structure on the entropy of a substance\n",
    "\n"
   ]
  },
  {
   "cell_type": "markdown",
   "id": "dce28345-0870-474d-9274-fad144ee636d",
   "metadata": {},
   "source": [
    "### Process Objectives\n",
    "\n"
   ]
  },
  {
   "cell_type": "markdown",
   "id": "f774b69b-c418-431e-88ad-f65c80c031c9",
   "metadata": {},
   "source": [
    "After completing this exercise you should be able to use python to\n",
    "\n",
    "-   import and visualize structured data\n",
    "-   fit experimental values to a polynomial\n",
    "-   assess the quality of fit using statistical measures RSS or SSE\n",
    "\n"
   ]
  },
  {
   "cell_type": "markdown",
   "id": "45d87c90-98ae-481c-8f9a-15b65a4ddc1c",
   "metadata": {},
   "source": [
    "### Python Environment\n",
    "\n"
   ]
  },
  {
   "cell_type": "code",
   "execution_count": null,
   "id": "0447d452-c717-49d7-8308-b46af63474b0",
   "metadata": {},
   "outputs": [],
   "source": [
    "import matplotlib.pyplot as plt\n",
    "import numpy as np\n",
    "from numpy.polynomial.polynomial import polyfit, polyval, Polynomial\n",
    "from scipy.integrate import trapezoid, simpson, quad"
   ]
  },
  {
   "cell_type": "markdown",
   "id": "d79ef3bf-1da3-4e47-9cdd-2e901f22580e",
   "metadata": {},
   "source": [
    "WU = Warm Up questions; CTQ = Critical Thinking Questions.\n",
    "\n"
   ]
  },
  {
   "cell_type": "markdown",
   "id": "052ee113-87fe-414c-95d0-caad9ba5f3b7",
   "metadata": {},
   "source": [
    "## Warm Up Questions\n",
    "\n"
   ]
  },
  {
   "cell_type": "markdown",
   "id": "0e67a933-9c87-419a-a951-814e87f87815",
   "metadata": {},
   "source": [
    "Answer questions individually, then compare and discuss answers with your group until there is consensus.\n",
    "\n",
    "**WU 1** List the devices and methods that can be used to measure a) enthalpy changes b) heat capacity, and c) entropy changes.\n",
    "\n"
   ]
  },
  {
   "cell_type": "code",
   "execution_count": null,
   "id": "39617609-d5f8-4342-b4e6-c54071a1666b",
   "metadata": {},
   "outputs": [],
   "source": []
  },
  {
   "cell_type": "markdown",
   "id": "c6ec279c-f6f9-4007-80ea-e6e8c20dc88e",
   "metadata": {},
   "source": [
    "**WU 2** How is heat capacity measured experimentally?\n",
    "\n"
   ]
  },
  {
   "cell_type": "code",
   "execution_count": null,
   "id": "a9ce3919-1e09-4262-aa1b-ebe86d7b45da",
   "metadata": {},
   "outputs": [],
   "source": []
  },
  {
   "cell_type": "markdown",
   "id": "24cd72bc-7e36-47b5-8984-b6eaa8605193",
   "metadata": {},
   "source": [
    "**WU 3** Using words, write a working definition of the third law of thermodynamics.\n",
    "\n"
   ]
  },
  {
   "cell_type": "code",
   "execution_count": null,
   "id": "b8832086-5ceb-4015-8ee2-733258604389",
   "metadata": {},
   "outputs": [],
   "source": []
  },
  {
   "cell_type": "markdown",
   "id": "513e497d-0d21-4bdd-8646-26c16e81837d",
   "metadata": {},
   "source": [
    "**WU 4** Using words, write a working definition of entropy. Is entropy temperature dependent?\n",
    "\n"
   ]
  },
  {
   "cell_type": "code",
   "execution_count": null,
   "id": "acb52376-9fcb-4472-93c3-5ba56f9644cf",
   "metadata": {},
   "outputs": [],
   "source": []
  },
  {
   "cell_type": "markdown",
   "id": "ed353675-07dc-4b7f-a557-1583651856e6",
   "metadata": {},
   "source": [
    "**WU 5** Write a differential expression for the second law of thermodynamics, relating $S$, $q$, and $T$.\n",
    "\n"
   ]
  },
  {
   "cell_type": "code",
   "execution_count": null,
   "id": "1ee9b048-6948-4ffb-b4fb-c652cb56c04b",
   "metadata": {},
   "outputs": [],
   "source": []
  },
  {
   "cell_type": "markdown",
   "id": "932e53a3-198e-4c4f-ae1b-927b1923cbfa",
   "metadata": {},
   "source": [
    "**WU 6** Write the relationship that connects $S(T)$ and $C_p$ over the temperature range $T_i$ to $T_f$.\n",
    "\n"
   ]
  },
  {
   "cell_type": "code",
   "execution_count": null,
   "id": "f56deb25-4eb7-4760-b125-bc5dd646826f",
   "metadata": {},
   "outputs": [],
   "source": []
  },
  {
   "cell_type": "markdown",
   "id": "2073085c-b37d-44bd-aa58-961ccd307270",
   "metadata": {},
   "source": [
    "**WU 7** Using the relationship in the previous question for inspiration, propose an experiment that would allow you to measure the entropy of a substance in the lab.\n",
    "\n"
   ]
  },
  {
   "cell_type": "code",
   "execution_count": null,
   "id": "6fe5c4bd-7c45-4e48-bfaf-fe100f5d2c49",
   "metadata": {},
   "outputs": [],
   "source": []
  },
  {
   "cell_type": "markdown",
   "id": "7c0bce6b-6277-451e-b7c2-2eceeb1aafcd",
   "metadata": {},
   "source": [
    "**WU 8**  Predict whether the isobaric heat capacity, $C_p$, for a substance in a given phase should increase, decrease, or remain constant as $T$ increases. Explain your reasoning.\n",
    "\n"
   ]
  },
  {
   "cell_type": "code",
   "execution_count": null,
   "id": "3fa09a9c-af4a-4781-ba68-3bac90ef6176",
   "metadata": {},
   "outputs": [],
   "source": []
  },
  {
   "cell_type": "markdown",
   "id": "b60976c2-faad-4cea-a982-196852234bd0",
   "metadata": {},
   "source": [
    "## How to calculate the heat capacity of Ag(s) as a function of temperature\n",
    "\n"
   ]
  },
  {
   "cell_type": "markdown",
   "id": "06fb412c-e6cd-46de-bd72-08ad32a693c3",
   "metadata": {},
   "source": [
    "Procedure for modeling $C_p(T)$, which can then be used to calculate molar entropy:\n",
    "\n",
    "1.  import and fit experimental $C_p$ data to a polynomial\n",
    "2.  assess quality of fit using [Residual Sum of Squares](https://en.wikipedia.org/wiki/Residual_sum_of_squares) (RSS), also known as the Sum of Squares Error (SSE)\n",
    "3.  calculate $S(T)$ over experimental temperature range, $S(T) = \\int_{T_i}^{T_f} \\frac{C_P}{T}\\; dT$\n",
    "4.  apply Debye approximation for heat capacity at low temperatures\n",
    "\n"
   ]
  },
  {
   "cell_type": "markdown",
   "id": "ffaefea5-b814-4b5a-a8df-8dd8862e8b04",
   "metadata": {},
   "source": [
    "### Import and visualize experimental data\n",
    "\n"
   ]
  },
  {
   "cell_type": "markdown",
   "id": "5fef3ed6-da69-4238-b9fe-be4b2bbfb281",
   "metadata": {},
   "source": [
    "Examine the data file for headers and format.\n",
    "\n"
   ]
  },
  {
   "cell_type": "code",
   "execution_count": null,
   "id": "eb64fbe9-71bd-40ac-8b7e-83f9f3296d61",
   "metadata": {},
   "outputs": [],
   "source": [
    "!head -n 5 cpSilver.csv"
   ]
  },
  {
   "cell_type": "markdown",
   "id": "46597255-a5ce-4196-a4aa-de9f515a6747",
   "metadata": {},
   "source": [
    "**CTQ 1** What are the data, units, and delimiters in this file?\n",
    "\n"
   ]
  },
  {
   "cell_type": "code",
   "execution_count": null,
   "id": "db7271ab-b273-4da1-b60f-c11ed8c0904e",
   "metadata": {},
   "outputs": [],
   "source": []
  },
  {
   "cell_type": "markdown",
   "id": "94eeb97e-08b5-427c-b575-f4c63248d7d0",
   "metadata": {},
   "source": [
    "**Exercise 1**\n",
    "Modify this code block to import the silver heat capacity data into numpy arrays and plot the data to visualize the temperature dependence.\n",
    "\n"
   ]
  },
  {
   "cell_type": "code",
   "execution_count": null,
   "id": "e402d4d5-bdb7-4a56-b9fe-384da15a6a06",
   "metadata": {},
   "outputs": [],
   "source": [
    "# Ts, Cps = np.genfromtxt('filename.csv', delimiter='some delimiter', unpack=True, skip_header=1)\n",
    "# ..."
   ]
  },
  {
   "cell_type": "code",
   "execution_count": null,
   "id": "1bf0aaed-8a10-4a18-af8e-72ccbebafe7a",
   "metadata": {},
   "outputs": [],
   "source": []
  },
  {
   "cell_type": "markdown",
   "id": "4c2cfc0e-ca91-496b-a0b7-193ee6597635",
   "metadata": {},
   "source": [
    "**CTQ 2** a) Does the plot agree with your prediction in WU-8? b) Does your group think the curve has a recognizable shape (e.g., quadratic, exponential, reciprocal)?\n",
    "\n"
   ]
  },
  {
   "cell_type": "code",
   "execution_count": null,
   "id": "caa3526d-1b0a-4915-a321-f77024ef617c",
   "metadata": {},
   "outputs": [],
   "source": []
  },
  {
   "cell_type": "markdown",
   "id": "5dad30ab-0ca2-4ba4-8515-90011210304b",
   "metadata": {},
   "source": [
    "**CTQ 3** In your paper notebook or Jupyter notebook, capture the steps used and any &ldquo;gotchas&rdquo; for visualizing experimental data using python.\n",
    "\n"
   ]
  },
  {
   "cell_type": "code",
   "execution_count": null,
   "id": "3f74747d-44ca-4ea1-b2ab-759f0e6a5376",
   "metadata": {},
   "outputs": [],
   "source": []
  },
  {
   "cell_type": "markdown",
   "id": "1ba2d3f7-e721-4e82-ae22-697a498a3fa1",
   "metadata": {},
   "source": [
    "### Fitting $C_p$ data to a polynomial\n",
    "\n"
   ]
  },
  {
   "cell_type": "markdown",
   "id": "dff1c03b-6532-4222-80be-bb63f44ee10e",
   "metadata": {},
   "source": [
    "**Worked Example**   \n",
    "Plan: Fit $C_p$ data to a polynomial of degree $n$ and plot the fit with experimental data. Assess the quality of fit using [RSS](https://en.wikipedia.org/wiki/Residual_sum_of_squares) and the variance. Smaller values for RSS and variance suggest a better fit to the data.\n",
    "\n"
   ]
  },
  {
   "cell_type": "code",
   "execution_count": null,
   "id": "f33ff31a-770f-4089-aa5c-50f016737f01",
   "metadata": {},
   "outputs": [],
   "source": [
    "n = 2  # Cp vs T doesn't look linear, so n=1 is not a good choice.\n",
    "fit = polyfit(Ts, Cps, n)\n",
    "fitvalues = polyval(Ts, fit)\n",
    "\n",
    "rss = np.sum((Cps - fitvalues)**2)\n",
    "variance = rss / (len(Cps)-1)\n",
    "print(f\"n={n}, rss={rss:.2f}, variance={variance:.2e}\")\n",
    "\n",
    "fig, ax = plt.subplots()\n",
    "ax.plot(Ts, Cps, 'o')\n",
    "ax.plot(Ts, fitvalues)"
   ]
  },
  {
   "cell_type": "markdown",
   "id": "b343f753-7477-424b-bc7e-2335d5a1986d",
   "metadata": {},
   "source": [
    "The optimized polynomial coefficients are stored in the array named &ldquo;fit&rdquo;. The coefficients can be printed:\n",
    "\n"
   ]
  },
  {
   "cell_type": "code",
   "execution_count": null,
   "id": "844e7981-e80a-4e16-8401-74c2e17f9007",
   "metadata": {},
   "outputs": [],
   "source": [
    "print(fit)\n",
    "print(Polynomial(fit))"
   ]
  },
  {
   "cell_type": "markdown",
   "id": "ddc44170-5f62-416a-92f0-390530a9bb44",
   "metadata": {},
   "source": [
    "**CTQ 4** Examine the polynomial equation that polyfit found with $n=2$. Does the equation reflect the general trend of the data? How would you assess the quality of the fit?\n",
    "\n"
   ]
  },
  {
   "cell_type": "code",
   "execution_count": null,
   "id": "38504ba9-2fd1-4342-8798-b4743b2bae4f",
   "metadata": {},
   "outputs": [],
   "source": []
  },
  {
   "cell_type": "markdown",
   "id": "70b84272-dd8c-4502-a448-94a01110636e",
   "metadata": {},
   "source": [
    "**CTQ 5** From the code above, write the mathematical expressions for RSS and variance. Identify each variable (explain what each variable is).\n",
    "\n"
   ]
  },
  {
   "cell_type": "code",
   "execution_count": null,
   "id": "73dfa97e-7de5-4680-9ace-3c45c9fc7133",
   "metadata": {},
   "outputs": [],
   "source": []
  },
  {
   "cell_type": "markdown",
   "id": "17e14cce-6538-47c3-8b0d-6f83679af6fe",
   "metadata": {},
   "source": [
    "**CTQ 6** How can RSS and variance be used to assess the quality of the fit?\n",
    "\n"
   ]
  },
  {
   "cell_type": "code",
   "execution_count": null,
   "id": "d5598d73-fe82-4b17-9ee3-acf55334f6d8",
   "metadata": {},
   "outputs": [],
   "source": []
  },
  {
   "cell_type": "markdown",
   "id": "24f9d41e-fe14-4317-8ce3-4d2284b9ab5d",
   "metadata": {},
   "source": [
    "**CTQ 7** Based on the information above, could the heat capacity data be fit to a 12th order polynomial (n=12)?\n",
    "\n"
   ]
  },
  {
   "cell_type": "code",
   "execution_count": null,
   "id": "e821e144-f0ff-4952-a4e4-55b38fcbece6",
   "metadata": {},
   "outputs": [],
   "source": []
  },
  {
   "cell_type": "markdown",
   "id": "26770d63-792b-441d-bcd9-e67225665e40",
   "metadata": {},
   "source": [
    "**Exercise 2**  \n",
    "Vary the value of $n$ and find a polynomial that fits the data well. Use the minimum number of fit parameters (terms in the polynomial) to obtain reasonable agreement.\n",
    "\n",
    "Tabulate n and goodness-of-fit measures for at least 5 different polynomials.\n",
    "\n"
   ]
  },
  {
   "cell_type": "code",
   "execution_count": null,
   "id": "5e779e71-0b01-473a-a4ae-3f09ab3e9580",
   "metadata": {},
   "outputs": [],
   "source": []
  },
  {
   "cell_type": "markdown",
   "id": "47cf6456-4460-4774-bdc7-cfe99c6e4a33",
   "metadata": {},
   "source": [
    "**CTQ 8**\n",
    " Give the full mathematical expression for the polynomial that you chose as having the best fit, and explain your reasoning for choosing it.\n",
    "\n"
   ]
  },
  {
   "cell_type": "code",
   "execution_count": null,
   "id": "122a0e2c-0bd8-4f5b-a0b0-b1947041c447",
   "metadata": {},
   "outputs": [],
   "source": []
  },
  {
   "cell_type": "markdown",
   "id": "189d5384-3973-4f0b-811f-d1937e7591a6",
   "metadata": {},
   "source": [
    "**CTQ 9** Are there disadvantages to fitting the heat capacity data to higher order polynomials (for example, 12th order)?\n",
    "\n"
   ]
  },
  {
   "cell_type": "code",
   "execution_count": null,
   "id": "1b5a9c5b-8f93-4827-b11f-e5a1d847bb51",
   "metadata": {},
   "outputs": [],
   "source": []
  },
  {
   "cell_type": "markdown",
   "id": "75c75a3b-fd07-48c8-9ba6-ed07797e9bec",
   "metadata": {},
   "source": [
    "### How many fitting parameters should be used?\n",
    "\n"
   ]
  },
  {
   "cell_type": "markdown",
   "id": "f1dffb0f-78e4-4128-8651-64b05b04e3b5",
   "metadata": {},
   "source": [
    "In experimental settings, [overfitting](https://en.wikipedia.org/wiki/Overfitting)  refers to the situation where a statistical model or analysis captures noise or random fluctuations in the data rather than the true underlying relationships or patterns. Two common ways overfitting can manifest in experimental data:\n",
    "\n",
    "-   Model Complexity: Using overly complex models (e.g., high-degree polynomials or intricate statistical models) can lead to fitting the noise in the data. This can result in misleading conclusions about the relationships between variables.\n",
    "-   Small Sample Sizes: When the sample size is small, there is a higher risk of overfitting because the model may be too closely tailored to the specific data points available.\n",
    "\n",
    "**Exercise 3**  \n",
    "Plot the model function polynomial with n=7 from 10K to 300K and from 10K to 400K or more. (Offset one of the curves by adding an arbitrary constant if you want to plot both curves on the same axes.)\n",
    "\n"
   ]
  },
  {
   "cell_type": "code",
   "execution_count": null,
   "id": "b686e022-ce98-4b8f-a1f8-0052079790ad",
   "metadata": {},
   "outputs": [],
   "source": []
  },
  {
   "cell_type": "markdown",
   "id": "0e649874-8eff-4d03-8dd1-d9fafc5d5a16",
   "metadata": {},
   "source": [
    "**CTQ 10**  Assess the ability of the n=7 polynomial model to predict $Cp$ at temperatures above 300K. What might be limiting the predictive ability of the model?\n",
    "\n"
   ]
  },
  {
   "cell_type": "code",
   "execution_count": null,
   "id": "cde122ba-96b7-44dc-85b7-3aebbf6c421f",
   "metadata": {},
   "outputs": [],
   "source": []
  },
  {
   "cell_type": "markdown",
   "id": "69de3bff-4f76-4dfa-8af0-df8c493650ac",
   "metadata": {},
   "source": [
    "**CTQ 11** Are there disadvantages to fitting the heat capacity data to a high-order polynomial?\n",
    "\n"
   ]
  },
  {
   "cell_type": "markdown",
   "id": "4329eed2-cb66-4bfd-b39e-6065efd95b0a",
   "metadata": {},
   "source": [
    "### Calculate entropy over the measured temperature range\n",
    "\n"
   ]
  },
  {
   "cell_type": "markdown",
   "id": "f62b7d13-5984-4d4f-9451-cfb2af941e91",
   "metadata": {},
   "source": [
    "**CTQ 12** Write the expression relating $S$ to $C_p(T)$.\n",
    "\n"
   ]
  },
  {
   "cell_type": "code",
   "execution_count": null,
   "id": "ddce6365-236c-43e0-9694-46f6a01ba83e",
   "metadata": {},
   "outputs": [],
   "source": []
  },
  {
   "cell_type": "markdown",
   "id": "819a1a54-6b11-458a-a8ae-87467b12602d",
   "metadata": {},
   "source": [
    "**Exercise 4**  \n",
    "Use the best-fit polynomial you chose above to calculate $S$ over the measured temperature range. The functions [trapezoid](https://docs.scipy.org/doc/scipy/reference/generated/scipy.integrate.trapezoid.html#scipy.integrate.trapezoid), [simpson](https://docs.scipy.org/doc/scipy/reference/generated/scipy.integrate.simpson.html#scipy.integrate.simpson), and [quad](https://docs.scipy.org/doc/scipy/reference/generated/scipy.integrate.quad.html#scipy.integrate.quad) all perform numerical integration. Giauque reports a value around 40 J/mol K using graphical integration.\n",
    "\n"
   ]
  },
  {
   "cell_type": "code",
   "execution_count": null,
   "id": "61b8d71c-ed0d-4c45-974d-dc665af874fd",
   "metadata": {},
   "outputs": [],
   "source": []
  },
  {
   "cell_type": "markdown",
   "id": "7b6f5e79-81a0-4c6f-909f-6984cd0be1eb",
   "metadata": {},
   "source": [
    "### Adding the Debye extrapolation\n",
    "\n"
   ]
  },
  {
   "cell_type": "markdown",
   "id": "3e975814-0883-4c75-918a-5690d5920994",
   "metadata": {},
   "source": [
    "Note there are no experimental data below about 10K. Because it is difficult to measure heat capacity at low temperatures (how would you design a calorimeter that works at a few Kelvin?), the [Debye model](https://en.wikipedia.org/wiki/Debye_model) is often used to cover temperatures from 0 K to the lowest temperature that can be measured experimentally.\n",
    "\n",
    "At low temperatures, many substances follow the relationship\n",
    "$$C_p = aT^3 $$\n",
    "where $a$ is an empirical constant.\n",
    "\n",
    "**CTQ 13** Show that\n",
    "$$ S(T_{low}) = \\dfrac{aT_{low}^3}{3}$$\n",
    "\n",
    "**Exercise 5**  \n",
    "Using $C_p$ at $T_{low}$, determine $a$ for silver from the data. Next, calculate $S$ from 0 K to the lowest measured temperature in the data.\n",
    "\n"
   ]
  },
  {
   "cell_type": "code",
   "execution_count": null,
   "id": "823a7e79-11a3-4e3b-ba65-f80d35a64dba",
   "metadata": {},
   "outputs": [],
   "source": []
  },
  {
   "cell_type": "markdown",
   "id": "61194cda-75d4-40fb-b926-9b44c6263dfe",
   "metadata": {},
   "source": [
    "### The whole picture\n",
    "\n"
   ]
  },
  {
   "cell_type": "markdown",
   "id": "1248c196-60b3-48c9-8b0a-d4f88314af7b",
   "metadata": {},
   "source": [
    "**Exercise 6**  \n",
    "Calculate the total entropy from 0K to the maximum temperature in the data.\n",
    "\n"
   ]
  },
  {
   "cell_type": "code",
   "execution_count": null,
   "id": "6638f2d5-4ca4-41e8-8562-a6d6a7e00ea6",
   "metadata": {},
   "outputs": [],
   "source": []
  },
  {
   "cell_type": "markdown",
   "id": "a82ff8df-53e8-4c77-b3c7-9fec9eb14495",
   "metadata": {},
   "source": [
    "**CTQ 14** Find the molar entropy for Ag at 298.15K on the NIST Webbook or in the CRC Handbook and compare it to your result. Quantify any differences and assess the quality of the modeling approach that was used.\n",
    "\n"
   ]
  },
  {
   "cell_type": "code",
   "execution_count": null,
   "id": "fc845c6b-49e5-46a7-b827-9900f4f9ae1c",
   "metadata": {},
   "outputs": [],
   "source": []
  },
  {
   "cell_type": "markdown",
   "id": "c30baff7-a8fd-4f7d-88c3-809b8729f18d",
   "metadata": {},
   "source": [
    "**CTQ 15** Could this modeling approach be used to calculate the entropy of Ag at, say, 500K? At 1500K? Why or why not?\n",
    "\n"
   ]
  },
  {
   "cell_type": "code",
   "execution_count": null,
   "id": "81ed8756-7c30-455c-af14-7db01b896e11",
   "metadata": {},
   "outputs": [],
   "source": []
  },
  {
   "cell_type": "markdown",
   "id": "666be05c-efda-4bfe-bc03-f34cc71647ac",
   "metadata": {},
   "source": [
    "## How do the entropies of other substances compare to Ag?\n",
    "\n"
   ]
  },
  {
   "cell_type": "markdown",
   "id": "afa165b7-5eb5-4057-bad1-ab21b4a9828d",
   "metadata": {},
   "source": [
    "Each person in the group choose one element from beryllium, gold, or copper (double up if necessary). \n",
    "\n",
    "**CTQ 16** Make a prediction: How will the molar entropy of your element compare to that of Ag over the same temperature range? Explain your reasoning.\n",
    "\n"
   ]
  },
  {
   "cell_type": "code",
   "execution_count": null,
   "id": "0d72cda9-9b76-4092-9c5d-5288c50de1f3",
   "metadata": {},
   "outputs": [],
   "source": []
  },
  {
   "cell_type": "markdown",
   "id": "7fd34ce3-3994-426b-811b-24a13e147486",
   "metadata": {},
   "source": [
    "**CTQ 17** As a group (without referring to outside sources) arrange the elements in order of *increasing* molar entropy. Explain your reasoning.\n",
    "\n"
   ]
  },
  {
   "cell_type": "code",
   "execution_count": null,
   "id": "33e6b339-5606-4009-be68-a9f8e5c1c137",
   "metadata": {},
   "outputs": [],
   "source": []
  },
  {
   "cell_type": "markdown",
   "id": "0d782519-82b1-4aab-a652-97126eedacb6",
   "metadata": {},
   "source": [
    "## What is the entropy of my element?\n",
    "\n"
   ]
  },
  {
   "cell_type": "markdown",
   "id": "a5844c6f-8955-4c5a-bbb9-5eff29c43df9",
   "metadata": {},
   "source": [
    "**Exercise 7**  \n",
    "Use Cp/temperature data to determine the molar entropy of your element from 0 to 298K. This cell will list the files accessible by Jupyter. You may need to upload the associated data file if it does not appear in the list.\n",
    "\n"
   ]
  },
  {
   "cell_type": "code",
   "execution_count": null,
   "id": "00993b61-1992-4c86-be47-fe6b652bd6e6",
   "metadata": {},
   "outputs": [],
   "source": [
    "# list csv data files\n",
    "import glob; glob.glob(\"*.csv\")"
   ]
  },
  {
   "cell_type": "code",
   "execution_count": null,
   "id": "42bc9e89-f23b-43cc-bd46-ec3f777ddace",
   "metadata": {},
   "outputs": [],
   "source": [
    "# enter your code for the entropy calculation"
   ]
  },
  {
   "cell_type": "markdown",
   "id": "1a153769-e6b6-4177-bd16-b521fe58ff14",
   "metadata": {},
   "source": [
    "**CTQ 18** Compare the entropy to that found on the NIST Webbook or in the CRC Handbook and to your prediction. Cite your reference.\n",
    "\n"
   ]
  },
  {
   "cell_type": "code",
   "execution_count": null,
   "id": "b3ec9ad2-c1da-48a3-baf8-af7aa7d55afe",
   "metadata": {},
   "outputs": [],
   "source": []
  },
  {
   "cell_type": "markdown",
   "id": "c08eab1b-0565-4f23-b92d-4e4fac976e8c",
   "metadata": {},
   "source": [
    "**CTQ 19** Pool the groups results for all of the elements. Was the predicted order correct? if not, what may have led to an unsupported prediction.\n",
    "\n"
   ]
  },
  {
   "cell_type": "code",
   "execution_count": null,
   "id": "eab9be33-404d-451b-8f3e-f161f0c9215e",
   "metadata": {},
   "outputs": [],
   "source": []
  },
  {
   "cell_type": "markdown",
   "id": "ed075aba-d145-463d-87db-94551625f2eb",
   "metadata": {},
   "source": [
    "**CTQ 20** Briefly summarize the mathematical relationships and process used to obtain the molar entropy of a substance in a single phase.\n",
    "\n"
   ]
  },
  {
   "cell_type": "code",
   "execution_count": null,
   "id": "38e394c5-85b3-4b11-a4aa-23b5cbc79ef6",
   "metadata": {},
   "outputs": [],
   "source": []
  },
  {
   "cell_type": "markdown",
   "id": "bb19d52e-e8ac-441d-bc36-ae33e5eac3d5",
   "metadata": {},
   "source": [
    "## Reflection\n",
    "\n"
   ]
  },
  {
   "cell_type": "markdown",
   "id": "f10d18ea-ed03-4d27-84a2-127d6f6946a5",
   "metadata": {},
   "source": [
    "On your own, review the Content and Process Objectives at the beginning of the activity. Identify which of the objectives you feel you meet and those that may need more work; explain reasoning for your assessment.\n",
    "\n"
   ]
  },
  {
   "cell_type": "code",
   "execution_count": null,
   "id": "1296b7a2-ea28-49fa-a0a3-4a18adbe88be",
   "metadata": {},
   "outputs": [],
   "source": []
  },
  {
   "cell_type": "markdown",
   "id": "00a19b25-6b25-4311-898d-b7c851a97ea8",
   "metadata": {},
   "source": [
    "Identify parts of the activity that stood out as surprising, interesting, or confusing, and explain why.\n",
    "\n"
   ]
  },
  {
   "cell_type": "code",
   "execution_count": null,
   "id": "1a310e4b-de3b-43e5-8a77-fd30f1a1f3d2",
   "metadata": {},
   "outputs": [],
   "source": []
  },
  {
   "cell_type": "markdown",
   "id": "fab8fce4-5125-406e-a715-86f3128ec704",
   "metadata": {},
   "source": [
    "## References\n",
    "\n"
   ]
  },
  {
   "cell_type": "markdown",
   "id": "a5e94266-151a-44fb-b2dd-be4d08cc61ed",
   "metadata": {},
   "source": [
    "-   Engle and Reid, Physical Chemistry, 3rd edition, Pearson, 2012, Ch 5\n",
    "-   McQuarrie and Simon, Physical Chemistry a Molecular Approach, University Science Books, 1997, Ch 21\n",
    "-   T. Grubbs, J. Chem. Educ. 2007, 1391, [doi.org/10.1021/ed084p1391](https://doi.org/10.1021/ed084p1391) (accessed 2025-06)\n",
    "-   Hamilton and Zielinski, J. Chem. Ed., 86(12), 2009, 1468\n",
    "\n"
   ]
  },
  {
   "cell_type": "markdown",
   "id": "3497018e-fceb-418b-8906-eb83c002c315",
   "metadata": {},
   "source": [
    "## Acknowledgement\n",
    "\n"
   ]
  },
  {
   "cell_type": "markdown",
   "id": "847e2a40-9a5e-481d-acc3-9b52a075244b",
   "metadata": {},
   "source": [
    "[ACT-CMS](https://act-cms.molssi.org/) is funded by the National Science Foundation Training-based Workforce Development for Advanced Cyberinfrastructure program (OAC 2321044,OAC 2321045).\n",
    "\n"
   ]
  }
 ],
 "metadata": {
  "kernelspec": {
   "display_name": "Python 3 (ipykernel)",
   "language": "python",
   "name": "python3"
  },
  "language_info": {
   "codemirror_mode": {
    "name": "ipython",
    "version": 3
   },
   "file_extension": ".py",
   "mimetype": "text/x-python",
   "name": "python",
   "nbconvert_exporter": "python",
   "pygments_lexer": "ipython3",
   "version": "3.10.16"
  },
  "org": null
 },
 "nbformat": 4,
 "nbformat_minor": 5
}
