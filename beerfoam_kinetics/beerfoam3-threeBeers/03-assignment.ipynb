{
 "cells": [
  {
   "cell_type": "markdown",
   "id": "31a8d1",
   "metadata": {
    "collapsed": false
   },
   "source": [
    "## Problem statement\n",
    "\n"
   ]
  },
  {
   "cell_type": "markdown",
   "id": "9577a4",
   "metadata": {
    "collapsed": false
   },
   "source": [
    "Can different beers be distinguished by their foam dynamics? Could a beer be identified using kinetic data? Support your answer by fitting the data from three different beers to obtain kinetic parameters with associated errors.\n",
    "\n"
   ]
  },
  {
   "cell_type": "markdown",
   "id": "8197e2",
   "metadata": {
    "collapsed": false
   },
   "source": [
    "## Data and submission\n",
    "\n"
   ]
  },
  {
   "cell_type": "markdown",
   "id": "b2907c",
   "metadata": {
    "collapsed": false
   },
   "source": [
    "Use the data from the file <tt>beer\\_foam-3beers.dat</tt> . Create a new jupyter notebook in this directory with a sensible name.\n"
   ]
  },
  {
   "cell_type": "markdown",
   "id": "105b4d",
   "metadata": {
    "collapsed": false
   },
   "source": [
    "## Format and Assessment\n",
    "\n"
   ]
  },
  {
   "cell_type": "markdown",
   "id": "194ead",
   "metadata": {
    "collapsed": false
   },
   "source": [
    "The response should be in the form of a *computational narrative* that is organized similar to a journal article (introduction, method, result, conclusion). Where appropriate, take advantage of Jupyter's features for displaying equations, plotting, links to citations, etc.\n",
    "\n",
    "Submissions will be assessed using the VALUE-communication rubric available in Resources on the course moodle page. Read through the rubric before and after writing the piece. Contact me ahead of the due time if you would like to chat about your ideas or writing.\n",
    "\n"
   ]
  },
  {
   "cell_type": "markdown",
   "id": "bf8e72",
   "metadata": {
    "collapsed": false
   },
   "source": [
    "## Tips for success\n",
    "\n"
   ]
  },
  {
   "cell_type": "markdown",
   "id": "3875d5",
   "metadata": {
    "collapsed": false
   },
   "source": [
    "-   Write an outline early (maybe first). Working through an outline will allow you to focus on different cognitive tasks (organizing, problem solving, computing, writing, editing).\n",
    "-   Clearly state the goal and the plan for meeting the goal.\n",
    "-   Briefly summarize the theoretical underpinnings of the methods being employed.\n",
    "-   The final submission is a writing assignment as much as it is a computing assignment.  Think about organization, audience, content development, mechanics, etc., just like you would for a writing assignment from a different genre.\n",
    "-   Use &ldquo;professional&rdquo; styles for language, graphics, and equations.  If unfamiliar with these, please don't guess;find a style guide or a writing center consultant.\n",
    "-   Do a &ldquo;Restart kernel and run all&rdquo; just before submitting.  This will catch sequencing errors.\n",
    "-   Use features of the tool (citations can be inline links, images, LaTeX equations, etc.)\n",
    "-   Review the scoring guide to you are familiar with how the work will be evaluated.\n",
    "\n",
    "Contact me if you have questions.\n",
    "\n"
   ]
  },
  {
   "cell_type": "code",
   "execution_count": 0,
   "id": "e571aa",
   "metadata": {
    "collapsed": false
   },
   "outputs": [
   ],
   "source": [
   ]
  }
 ],
 "metadata": {
  "kernelspec": {
   "argv": [
    "/usr/bin/python3",
    "-m",
    "ipykernel",
    "--HistoryManager.enabled=False",
    "--matplotlib=inline",
    "-c",
    "%config InlineBackend.figure_formats = set(['retina'])\nimport matplotlib; matplotlib.rcParams['figure.figsize'] = (12, 7)",
    "-f",
    "{connection_file}"
   ],
   "display_name": "Python 3 (system-wide)",
   "env": {
   },
   "language": "python",
   "metadata": {
    "cocalc": {
     "description": "Python 3 programming language",
     "priority": 100,
     "url": "https://www.python.org/"
    }
   },
   "name": "python3",
   "resource_dir": "/ext/jupyter/kernels/python3"
  },
  "language_info": {
   "codemirror_mode": {
    "name": "ipython",
    "version": 3
   },
   "file_extension": ".py",
   "mimetype": "text/x-python",
   "name": "python",
   "nbconvert_exporter": "python",
   "pygments_lexer": "ipython3",
   "version": "3.10.12"
  }
 },
 "nbformat": 4,
 "nbformat_minor": 4
}