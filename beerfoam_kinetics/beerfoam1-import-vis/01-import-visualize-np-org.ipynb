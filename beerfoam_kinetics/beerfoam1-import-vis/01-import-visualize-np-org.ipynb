{
 "cells": [
  {
   "cell_type": "markdown",
   "id": "ae3948",
   "metadata": {
    "collapsed": false
   },
   "source": [
    "Can we use kinetics to model beer foam? Part 1\n",
    "==============================================\n",
    "\n",
    "**Author:** S Singleton\n",
    "\n"
   ]
  },
  {
   "cell_type": "markdown",
   "id": "070435",
   "metadata": {
    "collapsed": false
   },
   "source": [
    "## Can we use kinetics to model beer foam?\n",
    "\n"
   ]
  },
  {
   "cell_type": "markdown",
   "id": "929d92",
   "metadata": {
    "collapsed": false
   },
   "source": [
    "### Part 1: Importing and plotting data\n",
    "\n"
   ]
  },
  {
   "cell_type": "markdown",
   "id": "c4793f",
   "metadata": {
    "collapsed": false
   },
   "source": [
    "Surely an important application of kinetic models is to understand the fate of the [beer head](https://en.wikipedia.org/wiki/Beer_head) on a pint.  An effective model can be developed for a fermentation process (a [zymurgist's](https://en.wikipedia.org/wiki/Zymology) concern) but foam dynamics are important to water treatment plants, chemical production facilities, and agriculture.  Indeed, the production and use of  [surfactants](https://en.wikipedia.org/wiki/Surfactant#Current_market_and_forecast) to control foam dynamics is a multi-billion dollar industry!\n",
    "\n",
    "<center>\n",
    "<img src=\"beers.png\" width=\"80%\">\n",
    "<br />Figure 1: Beers with head foam</center>\n",
    "\n",
    "In this activity, you will identify the kinetic order of the beer foam decay process.\n",
    "\n"
   ]
  },
  {
   "cell_type": "markdown",
   "id": "c0e946",
   "metadata": {
    "collapsed": false
   },
   "source": [
    "### Learning Objectives\n",
    "\n"
   ]
  },
  {
   "cell_type": "markdown",
   "id": "5779b7",
   "metadata": {
    "collapsed": false
   },
   "source": [
    "#### Concept Objectives\n",
    "\n"
   ]
  },
  {
   "cell_type": "markdown",
   "id": "aaa760",
   "metadata": {
    "collapsed": false
   },
   "source": [
    "-   identify the order of a reaction using graphical analysis\n",
    "-   calculate instantaneous and average rates\n",
    "\n"
   ]
  },
  {
   "cell_type": "markdown",
   "id": "56b6f6",
   "metadata": {
    "collapsed": false
   },
   "source": [
    "#### Python Objectives\n",
    "\n"
   ]
  },
  {
   "cell_type": "markdown",
   "id": "0f0af1",
   "metadata": {
    "collapsed": false
   },
   "source": [
    "-   use numpy to import data from a file\n",
    "-   generate plots using matplotlib\n",
    "\n",
    "Make an honest effort to predict the outcome of code cells before executing them, and assess your predictions after executing them. The prediction-observation-reflection cycle&#x2014;especially when unexpected outcomes arise&#x2014;takes time and mental energy but yields better learning. Play lots of \"what-if\" games with code cells and capture ideas, surprises, and reasoning in markdown cells.\n",
    "\n"
   ]
  },
  {
   "cell_type": "markdown",
   "id": "5ac6f6",
   "metadata": {
    "collapsed": false
   },
   "source": [
    "## Python environment\n",
    "\n"
   ]
  },
  {
   "cell_type": "code",
   "execution_count": 0,
   "id": "a99bdc",
   "metadata": {
    "collapsed": false
   },
   "outputs": [
   ],
   "source": [
    "import numpy as np\n",
    "import matplotlib.pyplot as plt\n",
    "%matplotlib inline\n",
    "# plt.style.use('seaborn-talk')  # larger plots"
   ]
  },
  {
   "cell_type": "markdown",
   "id": "affa19",
   "metadata": {
    "collapsed": false
   },
   "source": [
    "## About the Data\n",
    "\n"
   ]
  },
  {
   "cell_type": "markdown",
   "id": "58ed7a",
   "metadata": {
    "collapsed": false
   },
   "source": [
    "Description from the stats department at [http://users.stat.ufl.edu/~winner/datasets.html](http://users.stat.ufl.edu/~winner/datasets.html) (the secondary source of this data set):\n",
    "\n",
    "    Dataset: beer_foam.dat\n",
    "    \n",
    "    Source: J.J. Hackbarth (2006). \"Multivariate Analyses of Beer Foam Stand,\"\n",
    "    Journal of the Institute of Brewing, Vol. 112, #1, pp. 17-24\n",
    "    \n",
    "    Description: Measurements of wet foam height and beer height at various\n",
    "    time points for Shiner Bock at 20C.\n",
    "    \n",
    "    Variables/Columns\n",
    "    Time from pour (seconds)  4-8\n",
    "    Wet foam height (cm)  10-16\n",
    "    Beer height (cm)    18-24\n",
    "\n",
    "The command `!head -n` shows the first n lines of a file. [NB: may not work if using jupyter under Windows]\n",
    "\n"
   ]
  },
  {
   "cell_type": "code",
   "execution_count": 0,
   "id": "b22853",
   "metadata": {
    "collapsed": false
   },
   "outputs": [
   ],
   "source": [
    "!head -5 beer_foam.dat"
   ]
  },
  {
   "cell_type": "markdown",
   "id": "08d24b",
   "metadata": {
    "collapsed": false
   },
   "source": [
    "### Critical Thinking Questions\n",
    "\n"
   ]
  },
  {
   "cell_type": "markdown",
   "id": "3052b9",
   "metadata": {
    "collapsed": false
   },
   "source": [
    "**CTQ 1**\n",
    "\n",
    "a) Identify the three columns in the data file. \n",
    "\n",
    "b) Briefly explain how the variables in the data set are related to Figure 1 above.  \n",
    "\n",
    "c) Identify the dependent and independent variables.\n",
    "\n"
   ]
  },
  {
   "cell_type": "code",
   "execution_count": 0,
   "id": "fa8cbc",
   "metadata": {
    "collapsed": false
   },
   "outputs": [
   ],
   "source": [
   ]
  },
  {
   "cell_type": "markdown",
   "id": "1148d8",
   "metadata": {
    "collapsed": false
   },
   "source": [
    "**CTQ 2**\n",
    "Write a plausible experimental method for obtaining the data. Be specific about the equipment you would use, and based on using this equipment, estimate the uncertainty in each measurement.\n",
    "\n"
   ]
  },
  {
   "cell_type": "code",
   "execution_count": 0,
   "id": "e483cf",
   "metadata": {
    "collapsed": false
   },
   "outputs": [
   ],
   "source": [
   ]
  },
  {
   "cell_type": "markdown",
   "id": "813476",
   "metadata": {
    "collapsed": false
   },
   "source": [
    "**CTQ 3**\n",
    "The last stanza in the data set description has numbers after the variables' units; what do these numbers mean?\n",
    "\n"
   ]
  },
  {
   "cell_type": "code",
   "execution_count": 0,
   "id": "427174",
   "metadata": {
    "collapsed": false
   },
   "outputs": [
   ],
   "source": [
   ]
  },
  {
   "cell_type": "markdown",
   "id": "bd836e",
   "metadata": {
    "collapsed": false
   },
   "source": [
    "**CTQ 4**\n",
    " What [delimiter](https://en.wikipedia.org/wiki/Delimiter) is used in the data set?\n",
    "\n"
   ]
  },
  {
   "cell_type": "code",
   "execution_count": 0,
   "id": "1aa54f",
   "metadata": {
    "collapsed": false
   },
   "outputs": [
   ],
   "source": [
   ]
  },
  {
   "cell_type": "markdown",
   "id": "5bd64f",
   "metadata": {
    "collapsed": false
   },
   "source": [
    "## Importing formatted data with `numpy`\n",
    "\n"
   ]
  },
  {
   "cell_type": "markdown",
   "id": "70e2df",
   "metadata": {
    "collapsed": false
   },
   "source": [
    "(This notebook uses numpy for importing and manipulating data, but the `pandas` library can also be used.)\n",
    "\n",
    "`numpy.genfromtext()` is a powerful function for reading text-based data files in a variety of formats (CSV, TSV, fixed-width, etc.).\n",
    "\n"
   ]
  },
  {
   "cell_type": "code",
   "execution_count": 0,
   "id": "6600d8",
   "metadata": {
    "collapsed": false
   },
   "outputs": [
   ],
   "source": [
    "time, foam, beer = np.genfromtxt(\"beer_foam.dat\", delimiter=\"\", skip_header=0, unpack=True)\n",
    "print(\"time =\", time)\n",
    "print(\"foam =\", foam)\n",
    "print(\"beer =\", beer)"
   ]
  },
  {
   "cell_type": "markdown",
   "id": "6fe13f",
   "metadata": {
    "collapsed": false
   },
   "source": [
    "**CTQ 5**\n",
    "Explain the purpose of each argument in the `np.genfromtxt()` function call above. Refer to the numpy documentation or any other source, but cite sources using markdown links for reproducibility and attribution.\n",
    "\n"
   ]
  },
  {
   "cell_type": "code",
   "execution_count": 0,
   "id": "5fa86d",
   "metadata": {
    "collapsed": false
   },
   "outputs": [
   ],
   "source": [
   ]
  },
  {
   "cell_type": "markdown",
   "id": "15dde7",
   "metadata": {
    "collapsed": false
   },
   "source": [
    "## Exploratory visualization of data set\n",
    "\n"
   ]
  },
  {
   "cell_type": "markdown",
   "id": "218177",
   "metadata": {
    "collapsed": false
   },
   "source": [
    "It is helpful to quickly manipulate and plot a data set when seeking the story behind the data. Some call this \"exploratory visualization\".\n",
    "\n",
    "What do the data look like?\n",
    "\n"
   ]
  },
  {
   "cell_type": "code",
   "execution_count": 0,
   "id": "3d2f3e",
   "metadata": {
    "collapsed": false
   },
   "outputs": [
   ],
   "source": [
    "plt.plot(time, beer, 'o', label='beer height')\n",
    "plt.plot(time, foam, 'o', label='foam height')\n",
    "plt.legend()"
   ]
  },
  {
   "cell_type": "markdown",
   "id": "b51701",
   "metadata": {
    "collapsed": false
   },
   "source": [
    "**Exercise 1**\n",
    "Create a more professional-looking plot of heights vs. time using different markers for each data series (e.g, squares or triangles), an informative title, axis labels with units, and possibly a legend.\n",
    "\n"
   ]
  },
  {
   "cell_type": "code",
   "execution_count": 0,
   "id": "5e0660",
   "metadata": {
    "collapsed": false
   },
   "outputs": [
   ],
   "source": [
   ]
  },
  {
   "cell_type": "markdown",
   "id": "c42fbe",
   "metadata": {
    "collapsed": false
   },
   "source": [
    "**CTQ 6**\n",
    "Sketch the plot on paper. Add lines to the plot representing the instantaneous rate of change at the beginning and end of the experiment. In words, explain how the instantaneous rates can be calculated from the data.\n",
    "\n"
   ]
  },
  {
   "cell_type": "code",
   "execution_count": 0,
   "id": "d89091",
   "metadata": {
    "collapsed": false
   },
   "outputs": [
   ],
   "source": [
   ]
  },
  {
   "cell_type": "markdown",
   "id": "56dd7f",
   "metadata": {
    "collapsed": false
   },
   "source": [
    "### Worked example: How to compute instantaneous rates using arrays\n",
    "\n"
   ]
  },
  {
   "cell_type": "markdown",
   "id": "02fb42",
   "metadata": {
    "collapsed": false
   },
   "source": [
    "Compare the *instantaneous rates* for the process\n",
    "\n",
    "$${\\rm foam} \\stackrel{k}{\\rightarrow} {\\rm beer}$$\n",
    "\n",
    "at the beginning and end of the process.\n",
    "\n",
    "For a small value of $\\Delta T$, the instantaneous rate is given by\n",
    "\n",
    "$$ {\\rm Rate} = \\frac{ \\Delta {\\rm beer\\ height}} { \\Delta t} $$\n",
    "\n",
    "List-like python object (lists, arrays, series) values are accessed using the object's *index*. Elements at end of the list-like object can be accessed using negative index values. Most indices in python are zero-based.\n",
    "\n"
   ]
  },
  {
   "cell_type": "code",
   "execution_count": 0,
   "id": "28831b",
   "metadata": {
    "collapsed": false
   },
   "outputs": [
   ],
   "source": [
    "rate_beg = (beer[0] - beer[1]) / (time[0] - time[1])\n",
    "print(\"beer height rate at beginning of experiment = %.3f cm/s\" % rate_beg)\n",
    "\n",
    "rate_end = (beer[-2] - beer[-1]) / (time[-2] - time[-1])\n",
    "print(\"rate at end of experiment = %.3f cm/s\" % rate_end)"
   ]
  },
  {
   "cell_type": "markdown",
   "id": "b18989",
   "metadata": {
    "collapsed": false
   },
   "source": [
    "**CTQ 7**\n",
    "Print the values for each of the array elements used in the calculation above, and verify the results for the instantaneous rates.\n",
    "\n"
   ]
  },
  {
   "cell_type": "code",
   "execution_count": 0,
   "id": "589c9c",
   "metadata": {
    "collapsed": false
   },
   "outputs": [
   ],
   "source": [
   ]
  },
  {
   "cell_type": "markdown",
   "id": "05df1a",
   "metadata": {
    "collapsed": false
   },
   "source": [
    "**CTQ 8**\n",
    "By what factor do the instantaneous beer height rates change over the lifetime of the experiment? Use the variables `rate_beg` and `rate_end` to calculate this.\n",
    "\n"
   ]
  },
  {
   "cell_type": "code",
   "execution_count": 0,
   "id": "753cee",
   "metadata": {
    "collapsed": false
   },
   "outputs": [
   ],
   "source": [
   ]
  },
  {
   "cell_type": "markdown",
   "id": "dfbf07",
   "metadata": {
    "collapsed": false
   },
   "source": [
    "**Exercise 2**\n",
    "Compute the wet foam initial and final rates and compare them to the beer height rates.  Relate the numeric results to the plot.\n",
    "\n"
   ]
  },
  {
   "cell_type": "code",
   "execution_count": 0,
   "id": "939b2a",
   "metadata": {
    "collapsed": false
   },
   "outputs": [
   ],
   "source": [
   ]
  },
  {
   "cell_type": "markdown",
   "id": "471513",
   "metadata": {
    "collapsed": false
   },
   "source": [
    "**Exercise 3**\n",
    "Is the total height in glass conserved? That is, is the sum of foam height and beer height constant? Use a plot to support your answer.\n",
    "\n"
   ]
  },
  {
   "cell_type": "code",
   "execution_count": 0,
   "id": "5d6324",
   "metadata": {
    "collapsed": false
   },
   "outputs": [
   ],
   "source": [
   ]
  },
  {
   "cell_type": "markdown",
   "id": "520379",
   "metadata": {
    "collapsed": false
   },
   "source": [
    "**Problem 1**\n",
    "<br/>\n",
    "Using graphical analysis, determine whether the rate laws for the wet foam height and the beer height are zero, first, or second order.  Give the rate constant if you able.\n",
    "\n"
   ]
  },
  {
   "cell_type": "code",
   "execution_count": 0,
   "id": "90f75e",
   "metadata": {
    "collapsed": false
   },
   "outputs": [
   ],
   "source": [
   ]
  },
  {
   "cell_type": "markdown",
   "id": "738be5",
   "metadata": {
    "collapsed": false
   },
   "source": [
    "## Reflection\n",
    "\n"
   ]
  },
  {
   "cell_type": "markdown",
   "id": "dcb7c5",
   "metadata": {
    "collapsed": false
   },
   "source": [
    "In a markdown cell, please answer these prompts as they relate to learning kinetics and/or python (please specify which):\n",
    "\n",
    "-   What is a useful thing you accomplished or learned?\n",
    "-   What did you find interesting or surprising?\n",
    "-   What did you find confusing?\n",
    "\n"
   ]
  },
  {
   "cell_type": "code",
   "execution_count": 0,
   "id": "3216fc",
   "metadata": {
    "collapsed": false
   },
   "outputs": [
   ],
   "source": [
   ]
  }
 ],
 "metadata": {
  "kernelspec": {
   "argv": [
    "/ext/jupyter/kernels/anaconda2022/launch.sh",
    "{connection_file}"
   ],
   "display_name": "Python 3 (Anaconda 2022)",
   "env": {
   },
   "language": "python",
   "metadata": {
    "cocalc": {
     "description": "Anaconda 2022.05 Python 3 environment",
     "priority": 5,
     "url": "https://www.anaconda.com/distribution/"
    }
   },
   "name": "anaconda2022",
   "resource_dir": "/ext/jupyter/kernels/anaconda2022"
  },
  "language_info": {
   "codemirror_mode": {
    "name": "ipython",
    "version": 3
   },
   "file_extension": ".py",
   "mimetype": "text/x-python",
   "name": "python",
   "nbconvert_exporter": "python",
   "pygments_lexer": "ipython3",
   "version": "3.8.10"
  }
 },
 "nbformat": 4,
 "nbformat_minor": 4
}