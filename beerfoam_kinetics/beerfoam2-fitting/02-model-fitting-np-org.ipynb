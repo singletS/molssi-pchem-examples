{
 "cells": [
  {
   "cell_type": "markdown",
   "id": "a9b75e",
   "metadata": {
    "collapsed": false
   },
   "source": [
    "## Part 2: Linearization and fitting"
   ]
  },
  {
   "cell_type": "markdown",
   "id": "528386",
   "metadata": {
    "collapsed": false
   },
   "source": [
    "This activity follows Part 1: Importing and Visualizing.\n",
    "\n",
    "In this activity, we will fit a kinetic model to experimental data. Subsequently, the model may be used to distinguish beer brands based on the kinetics of their foams."
   ]
  },
  {
   "cell_type": "markdown",
   "id": "a980d1",
   "metadata": {
    "collapsed": false
   },
   "source": [
    "### Chemistry objectives\n",
    "\n"
   ]
  },
  {
   "cell_type": "markdown",
   "id": "3b9d44",
   "metadata": {
    "collapsed": false
   },
   "source": [
    "After completing this task you should be able to \n",
    "\n",
    "-   determine the kinetic the order and rate constant of a chemical process using experimental data\n",
    "-   assess the quality of a fit using error estimates and residuals\n",
    "\n"
   ]
  },
  {
   "cell_type": "markdown",
   "id": "d4e9e7",
   "metadata": {
    "collapsed": false
   },
   "source": [
    "### Python Objectives\n",
    "\n"
   ]
  },
  {
   "cell_type": "markdown",
   "id": "d278c2",
   "metadata": {
    "collapsed": false
   },
   "source": [
    "-   use `curve_fit()` to fit data to an arbitrary function\n",
    "-   create plots using matplotlib\n",
    "-   use curve fitting and error estimates to distinguish data samples\n",
    "\n"
   ]
  },
  {
   "cell_type": "markdown",
   "id": "a13edd",
   "metadata": {
    "collapsed": false
   },
   "source": [
    "### Prerequisites\n",
    "\n"
   ]
  },
  {
   "cell_type": "markdown",
   "id": "d1461c",
   "metadata": {
    "collapsed": false
   },
   "source": [
    "Before attempting this activity, users should be familiar with\n",
    "\n",
    "-   integrated rate laws for zero, first, and second order reactions; identifying reaction orders graphically\n",
    "-   least squares fitting (not necessarily in python)\n",
    "-   importing formatted data and manipulating numpy arrays\n",
    "\n",
    "This notebook assumes the data file is in the same directory as the Jupyter notebook.\n",
    "\n"
   ]
  },
  {
   "cell_type": "markdown",
   "id": "49eae3",
   "metadata": {
    "collapsed": false
   },
   "source": [
    "## Python environment\n",
    "\n"
   ]
  },
  {
   "cell_type": "code",
   "execution_count": 1,
   "id": "1701e6",
   "metadata": {
    "collapsed": false
   },
   "outputs": [
   ],
   "source": [
    "import matplotlib.pyplot as plt\n",
    "import numpy as np\n",
    "from scipy.optimize import curve_fit"
   ]
  },
  {
   "cell_type": "markdown",
   "id": "306b1e",
   "metadata": {
    "collapsed": false
   },
   "source": [
    "## Information: Integrated rate laws\n",
    "\n"
   ]
  },
  {
   "cell_type": "markdown",
   "id": "d93bf8",
   "metadata": {
    "collapsed": false
   },
   "source": [
    "First order reactions follow the first order integrated rate law\n",
    "\n",
    "$$ [A] = [A_0] e^{-kt} $$\n",
    "\n",
    "Some second order reactions follow the integrated rate law\n",
    "\n",
    "$$\\frac{1}{[A]} = \\frac{1}{[A]_0} + kt$$\n",
    "\n",
    "**Critical Thinking Questions**\n",
    "\n"
   ]
  },
  {
   "cell_type": "markdown",
   "id": "7d6697",
   "metadata": {
    "collapsed": false
   },
   "source": [
    "**CTQ 1**\n",
    "Recall the beer foam data are units of time and height. Assuming first-order, write the exponential form of integrated rate law for the process being studied. Give the units for each term in the equation.\n",
    "\n"
   ]
  },
  {
   "cell_type": "code",
   "execution_count": 1,
   "id": "316690",
   "metadata": {
    "collapsed": false
   },
   "outputs": [
   ],
   "source": [
   ]
  },
  {
   "cell_type": "markdown",
   "id": "c81b5d",
   "metadata": {
    "collapsed": false
   },
   "source": [
    "**CTQ 2**\n",
    "Write the general first-order and second-order rate laws in their *linearized* forms. In other words, what function for each order will give a straight line as a function of time?\n",
    "\n"
   ]
  },
  {
   "cell_type": "code",
   "execution_count": 1,
   "id": "bfd4db",
   "metadata": {
    "collapsed": false
   },
   "outputs": [
   ],
   "source": [
   ]
  },
  {
   "cell_type": "markdown",
   "id": "641551",
   "metadata": {
    "collapsed": false
   },
   "source": [
    "**CTQ 3**\n",
    "On paper, sketch a plot of the wet foam height \\(H\\) vs time that would show a linear relationship if is a first\\-order process. How can H<sub>0</sub> and k be determined from the plot?\n"
   ]
  },
  {
   "cell_type": "code",
   "execution_count": 1,
   "id": "233e83",
   "metadata": {
    "collapsed": false
   },
   "outputs": [
   ],
   "source": [
   ]
  },
  {
   "cell_type": "markdown",
   "id": "fc656e",
   "metadata": {
    "collapsed": false
   },
   "source": [
    "## Import and visualize the data\n",
    "\n"
   ]
  },
  {
   "cell_type": "markdown",
   "id": "dbacac",
   "metadata": {
    "collapsed": false
   },
   "source": [
    "Use `np.genfromtxt()` to import the data file into np arrays.\n",
    "\n"
   ]
  },
  {
   "cell_type": "code",
   "execution_count": 1,
   "id": "6fc54c",
   "metadata": {
    "collapsed": false
   },
   "outputs": [
   ],
   "source": [
    "time, foam, beer = np.genfromtxt(\"beer_foam.dat\", delimiter=\"\", skip_header=0, unpack=True)\n",
    "print(\"time =\", time)\n",
    "print(\"foam =\", foam)\n",
    "print(\"beer =\", beer)"
   ]
  },
  {
   "cell_type": "markdown",
   "id": "a2f67f",
   "metadata": {
    "collapsed": false
   },
   "source": [
    "**Exercise 1**\n",
    "Create a plot of beer foam height with labeled axes.\n",
    "\n"
   ]
  },
  {
   "cell_type": "code",
   "execution_count": 1,
   "id": "cbba02",
   "metadata": {
    "collapsed": false
   },
   "outputs": [
   ],
   "source": [
   ]
  },
  {
   "cell_type": "markdown",
   "id": "00a4d8",
   "metadata": {
    "collapsed": false
   },
   "source": [
    "**Exercise 2**\n",
    "Determine the order of the wet foam process using graphical analysis and your answer from CTQ2. (Try to recreate the work without peeking at Part 1 :)\n"
   ]
  },
  {
   "cell_type": "markdown",
   "id": "fb7d2a",
   "metadata": {
    "collapsed": false
   },
   "source": [
    "## Using `curve_fit()` to fit data to a model function\n",
    "\n"
   ]
  },
  {
   "cell_type": "markdown",
   "id": "b5a297",
   "metadata": {
    "collapsed": false
   },
   "source": [
    "There are many modules and function in the python ecosystem for fitting data. In this activity, we use `curve_fit()` from the `scipy.optimize` module. Note that this function was imported in the **Python environment** section above.\n",
    "\n",
    "Review the function signature and the examples at [scipy.optimize.curve<sub>fit</sub>](https://docs.scipy.org/doc/scipy/reference/generated/scipy.optimize.curve_fit.html) to learn what&rsquo;s happening here. (The documentation may seem cryptic at first, but you&rsquo;ll get there!)\n",
    "\n",
    "`curve_fit()` finds the best-fit parameters by minimizing the sum of squares deviation between the data and the model function. You may have heard this called [least squares regression](https://en.wikipedia.org/wiki/Least_squares).\n",
    "\n",
    "First, a model function (with the parameters) must be defined.\n",
    "\n"
   ]
  },
  {
   "cell_type": "markdown",
   "id": "7ac12b",
   "metadata": {
    "collapsed": false
   },
   "source": [
    "**Exercise 3**\n",
    "Finish this code block so the function `linmod()` (linear model) returns the y-values for a straight line. Add an informative docstring, too.\n",
    "\n"
   ]
  },
  {
   "cell_type": "code",
   "execution_count": 1,
   "id": "99f327",
   "metadata": {
    "collapsed": false
   },
   "outputs": [
   ],
   "source": [
    "def linmod(x, m, b):\n",
    "\n",
    "    return"
   ]
  },
  {
   "cell_type": "markdown",
   "id": "fedfad",
   "metadata": {
    "collapsed": false
   },
   "source": [
    "**CTQ 4**\n",
    "Which parameters (arguments) in `linmod()` will be optimized and which are &ldquo;fixed&rdquo;?\n",
    "\n",
    "If the reaction is first-order, we linearize the data by taking the natural log of the dependent variable and call `curve_fit()` with the experimental data.  Documentation for curve_fit() shows that it returns the optimized parameters and the covariance matrix.  We will call these poptlm and pcovlm for the linear model.\n",
    "\n"
   ]
  },
  {
   "cell_type": "markdown",
   "id": "5eb73d",
   "metadata": {
    "collapsed": false
   },
   "source": [
    "**Exercise 4**\n",
    "Add a print statement that reports the names and values of the optimized parameters.\n",
    "\n"
   ]
  },
  {
   "cell_type": "code",
   "execution_count": 1,
   "id": "1721c0",
   "metadata": {
    "collapsed": false
   },
   "outputs": [
   ],
   "source": [
    "lnfoam = np.log(foam)\n",
    "poptlm, pcovlm = curve_fit(linmod, time, lnfoam)"
   ]
  },
  {
   "cell_type": "markdown",
   "id": "dffb4b",
   "metadata": {
    "collapsed": false
   },
   "source": [
    "**Exercise 5**\n",
    "Using the results of the fit, have python print the name and values of the rate constant and the starting height with units.\n",
    "\n"
   ]
  },
  {
   "cell_type": "markdown",
   "id": "7a784a",
   "metadata": {
    "collapsed": false
   },
   "source": [
    "**Exercise 6**\n",
    "Using the results of the fit, create a plot showing the experimental data as symbols and the best fit line.\n",
    "\n"
   ]
  },
  {
   "cell_type": "markdown",
   "id": "c03a85",
   "metadata": {
    "collapsed": false
   },
   "source": [
    "## Evaluating the quality of fit\n",
    "\n"
   ]
  },
  {
   "cell_type": "markdown",
   "id": "f9168c",
   "metadata": {
    "collapsed": false
   },
   "source": [
    "### Estimated error from the covariance matrix\n",
    "\n"
   ]
  },
  {
   "cell_type": "markdown",
   "id": "c6b40b",
   "metadata": {
    "collapsed": false
   },
   "source": [
    "Assess the quality of the fit using the estimated errors in the parameters, e.g., $m \\pm \\delta m$. The errors are obtained from the square root of the diagonal elements of the <tt>pcovlm</tt> matrix.  In general, the main diagonal of a simple matrix\n",
    "\n",
    "\\begin{bmatrix}a & b \\\\c & d\\end{bmatrix}\n",
    "\n",
    "is $[a\\ d$]. Diagonals are commonly needed, and `np.diag()` will provide them.\n"
   ]
  },
  {
   "cell_type": "code",
   "execution_count": 1,
   "id": "75c211",
   "metadata": {
    "collapsed": false
   },
   "outputs": [
   ],
   "source": [
    "dm, db = np.sqrt(np.diag(pcovlm))\n",
    "print(f\"slope = {m:.4f} ± {dm:.4f}; intercept = {b:.2f} ± {db:.2f}\")"
   ]
  },
  {
   "cell_type": "markdown",
   "id": "09066d",
   "metadata": {
    "collapsed": false
   },
   "source": [
    "### Residuals, residual plots, and RSS (SSE)\n",
    "\n"
   ]
  },
  {
   "cell_type": "markdown",
   "id": "49ede3",
   "metadata": {
    "collapsed": false
   },
   "source": [
    "A [residual plot](https://www.statisticshowto.datasciencecentral.com/residual-plot/) can be used to assess the fit quality. Residuals are defined by\n",
    "\n",
    "$$ R = y_i - f(x_i) $$\n",
    "\n"
   ]
  },
  {
   "cell_type": "markdown",
   "id": "9886aa",
   "metadata": {
    "collapsed": false
   },
   "source": [
    "**CTQ 5**\n",
    " What are the terms $y_i$ and $f(x_i)$ in the residual?  How many residuals will there be for this data set?\n",
    "\n"
   ]
  },
  {
   "cell_type": "markdown",
   "id": "c9bcbd",
   "metadata": {
    "collapsed": false
   },
   "source": [
    "**Exercise 8**\n",
    "Create a residual plot (time vs residual) for the data.  Does a linear model fit the experimental data? If not, what adjustments could be made to the fitting analysis that might improve the fit?\n",
    "\n"
   ]
  },
  {
   "cell_type": "markdown",
   "id": "85908c",
   "metadata": {
    "collapsed": false
   },
   "source": [
    "## Summary and Reflection\n",
    "\n"
   ]
  },
  {
   "cell_type": "markdown",
   "id": "00438d",
   "metadata": {
    "collapsed": false
   },
   "source": [
    "In a paragraph or so, summarize the process you used to fit experimental data to a model function. In the summary, report the rate law with the optimized kinetic parameters (H<sub>0</sub> and k) with and their estimated errors.\n",
    "\n"
   ]
  },
  {
   "cell_type": "code",
   "execution_count": 1,
   "id": "46242f",
   "metadata": {
    "collapsed": false
   },
   "outputs": [
   ],
   "source": [
   ]
  },
  {
   "cell_type": "markdown",
   "id": "27fc61",
   "metadata": {
    "collapsed": false
   },
   "source": [
    "In a markdown cell, please answer these prompts as they relate to learning kinetics and/or python (please specify which):\n",
    "\n",
    "-   What is a useful thing you accomplished or learned?\n",
    "-   What did you find interesting or surprising?\n",
    "-   What did you find confusing?\n",
    "\n"
   ]
  },
  {
   "cell_type": "code",
   "execution_count": 1,
   "id": "6b08dd",
   "metadata": {
    "collapsed": false
   },
   "outputs": [
   ],
   "source": [
   ]
  },
  {
   "cell_type": "markdown",
   "id": "08713b",
   "metadata": {
    "collapsed": false
   },
   "source": [
    "## Extension exercises\n",
    "\n"
   ]
  },
  {
   "cell_type": "markdown",
   "id": "dbea0a",
   "metadata": {
    "collapsed": false
   },
   "source": [
    "### `curve_fit` without linearizing\n",
    "\n"
   ]
  },
  {
   "cell_type": "markdown",
   "id": "747713",
   "metadata": {
    "collapsed": false
   },
   "source": [
    "A powerful feature of `curve_fit()` is that it can fit non-linear functions like $Ae^{x}$.\n",
    "\n"
   ]
  },
  {
   "cell_type": "markdown",
   "id": "ca4193",
   "metadata": {
    "collapsed": false
   },
   "source": [
    "**Exercise 9**\n",
    "Given the first order reaction $A \\stackrel{k}{\\longrightarrow} P$ write a function `func1` that returns the the amount of A. Use the provided function *signature* (name and arguments).\n",
    "\n"
   ]
  },
  {
   "cell_type": "code",
   "execution_count": 1,
   "id": "3074d1",
   "metadata": {
    "collapsed": false
   },
   "outputs": [
   ],
   "source": [
    "def func1(t, A0, k):\n",
    "    \"\"\"Compute amount of A at time t for a first-order reaction.\n",
    "\n",
    "    Args:\n",
    "        t : time (sec)\n",
    "        A0 : initial value\n",
    "        k : first order rate constant (s^-1)\n",
    "    \"\"\"\n",
    "    # insert your code here; remember the function must have a return statement"
   ]
  },
  {
   "cell_type": "markdown",
   "id": "421954",
   "metadata": {
    "collapsed": false
   },
   "source": [
    "### Fit to 2nd order integrated rate law\n",
    "\n"
   ]
  },
  {
   "cell_type": "markdown",
   "id": "af0b6c",
   "metadata": {
    "collapsed": false
   },
   "source": [
    "**Exercise 10**\n",
    "Repeat the fitting procedure using second order kinetic function\n",
    "$$ \\frac{1}{A} = \\frac{1}{A_0} + kt $$\n",
    "\n"
   ]
  }
 ],
 "metadata": {
  "kernelspec": {
   "argv": [
    "/usr/bin/python3",
    "-m",
    "ipykernel",
    "--HistoryManager.enabled=False",
    "--matplotlib=inline",
    "-c",
    "%config InlineBackend.figure_formats = set(['retina'])\nimport matplotlib; matplotlib.rcParams['figure.figsize'] = (12, 7)",
    "-f",
    "{connection_file}"
   ],
   "display_name": "Python 3 (system-wide)",
   "env": {
   },
   "language": "python",
   "metadata": {
    "cocalc": {
     "description": "Python 3 programming language",
     "priority": 100,
     "url": "https://www.python.org/"
    }
   },
   "name": "python3",
   "resource_dir": "/ext/jupyter/kernels/python3"
  },
  "language_info": {
   "codemirror_mode": {
    "name": "ipython",
    "version": 3
   },
   "file_extension": ".py",
   "mimetype": "text/x-python",
   "name": "python",
   "nbconvert_exporter": "python",
   "pygments_lexer": "ipython3",
   "version": "3.10.12"
  }
 },
 "nbformat": 4,
 "nbformat_minor": 4
}